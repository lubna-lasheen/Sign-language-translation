{
 "cells": [
  {
   "cell_type": "code",
   "execution_count": null,
   "id": "a6d7f219-e0ee-4a2e-a4a2-401c35b5350c",
   "metadata": {
    "scrolled": true
   },
   "outputs": [],
   "source": [
    "!pip install tensorflow"
   ]
  },
  {
   "cell_type": "code",
   "execution_count": null,
   "id": "47d2140e-46a3-404f-ada5-3b16ba6e00ee",
   "metadata": {
    "scrolled": true
   },
   "outputs": [],
   "source": [
    "!pip install mediapipe"
   ]
  },
  {
   "cell_type": "code",
   "execution_count": 1,
   "id": "ba814238-8bf6-4501-aa9a-a138287c3f63",
   "metadata": {},
   "outputs": [],
   "source": [
    "import cv2\n",
    "import mediapipe as mp\n",
    "import numpy as np\n",
    "import pandas as pd\n",
    "import os\n",
    "import gc\n",
    "import re\n",
    "import shutil\n",
    "import time\n",
    "import json\n",
    "import tensorflow as tf\n",
    "from tqdm import tqdm\n",
    "from matplotlib import pyplot as plt\n",
    "from sklearn.preprocessing import LabelEncoder\n",
    "from sklearn.preprocessing import StandardScaler\n",
    "from sklearn.model_selection import train_test_split\n",
    "from concurrent.futures import ThreadPoolExecutor\n",
    "from IPython.display import clear_output, FileLink\n",
    "from tensorflow.keras.utils import to_categorical\n",
    "from tensorflow.keras import layers, models\n",
    "from tensorflow.keras.models import Sequential\n",
    "from tensorflow.keras.layers import BatchNormalization, Dropout, Bidirectional, LSTM, Dense, Masking\n",
    "from tensorflow.keras.callbacks import TensorBoard, EarlyStopping"
   ]
  },
  {
   "cell_type": "markdown",
   "id": "808c7854-d7b9-4b84-9683-4e401512730b",
   "metadata": {},
   "source": [
    "## Data Preprocessing"
   ]
  },
  {
   "cell_type": "code",
   "execution_count": 7,
   "id": "b23b5855-8415-4cf1-a71c-e51a6c68dcd3",
   "metadata": {},
   "outputs": [
    {
     "data": {
      "text/html": [
       "<div>\n",
       "<style scoped>\n",
       "    .dataframe tbody tr th:only-of-type {\n",
       "        vertical-align: middle;\n",
       "    }\n",
       "\n",
       "    .dataframe tbody tr th {\n",
       "        vertical-align: top;\n",
       "    }\n",
       "\n",
       "    .dataframe thead th {\n",
       "        text-align: right;\n",
       "    }\n",
       "</style>\n",
       "<table border=\"1\" class=\"dataframe\">\n",
       "  <thead>\n",
       "    <tr style=\"text-align: right;\">\n",
       "      <th></th>\n",
       "      <th>Video file</th>\n",
       "      <th>Gloss</th>\n",
       "    </tr>\n",
       "  </thead>\n",
       "  <tbody>\n",
       "    <tr>\n",
       "      <th>0</th>\n",
       "      <td>14154575310664197-NICE.mp4</td>\n",
       "      <td>NICE</td>\n",
       "    </tr>\n",
       "    <tr>\n",
       "      <th>1</th>\n",
       "      <td>18199086230023087-NICE.mp4</td>\n",
       "      <td>NICE</td>\n",
       "    </tr>\n",
       "    <tr>\n",
       "      <th>2</th>\n",
       "      <td>3597949009905055-NICE.mp4</td>\n",
       "      <td>NICE</td>\n",
       "    </tr>\n",
       "    <tr>\n",
       "      <th>3</th>\n",
       "      <td>8565239257906878-NICE.mp4</td>\n",
       "      <td>NICE</td>\n",
       "    </tr>\n",
       "    <tr>\n",
       "      <th>4</th>\n",
       "      <td>2575780253377702-NICE.mp4</td>\n",
       "      <td>NICE</td>\n",
       "    </tr>\n",
       "    <tr>\n",
       "      <th>...</th>\n",
       "      <td>...</td>\n",
       "      <td>...</td>\n",
       "    </tr>\n",
       "    <tr>\n",
       "      <th>354</th>\n",
       "      <td>22369668985632774-YOUR.mp4</td>\n",
       "      <td>YOUR</td>\n",
       "    </tr>\n",
       "    <tr>\n",
       "      <th>355</th>\n",
       "      <td>32521170014807677-YOUR.mp4</td>\n",
       "      <td>YOUR</td>\n",
       "    </tr>\n",
       "    <tr>\n",
       "      <th>356</th>\n",
       "      <td>8184724937356351-YOUR.mp4</td>\n",
       "      <td>YOUR</td>\n",
       "    </tr>\n",
       "    <tr>\n",
       "      <th>357</th>\n",
       "      <td>217732808571379-YOUR.mp4</td>\n",
       "      <td>YOUR</td>\n",
       "    </tr>\n",
       "    <tr>\n",
       "      <th>358</th>\n",
       "      <td>6305839235811999-YOUR.mp4</td>\n",
       "      <td>YOUR</td>\n",
       "    </tr>\n",
       "  </tbody>\n",
       "</table>\n",
       "<p>359 rows × 2 columns</p>\n",
       "</div>"
      ],
      "text/plain": [
       "                     Video file Gloss\n",
       "0    14154575310664197-NICE.mp4  NICE\n",
       "1    18199086230023087-NICE.mp4  NICE\n",
       "2     3597949009905055-NICE.mp4  NICE\n",
       "3     8565239257906878-NICE.mp4  NICE\n",
       "4     2575780253377702-NICE.mp4  NICE\n",
       "..                          ...   ...\n",
       "354  22369668985632774-YOUR.mp4  YOUR\n",
       "355  32521170014807677-YOUR.mp4  YOUR\n",
       "356   8184724937356351-YOUR.mp4  YOUR\n",
       "357    217732808571379-YOUR.mp4  YOUR\n",
       "358   6305839235811999-YOUR.mp4  YOUR\n",
       "\n",
       "[359 rows x 2 columns]"
      ]
     },
     "metadata": {},
     "output_type": "display_data"
    }
   ],
   "source": [
    "asl_df = pd.read_csv(r\"D:\\cDrive_Files\\GRADUATION_PROJECT\\ASL\\30videodataset (1).csv\")\n",
    "display(asl_df)"
   ]
  },
  {
   "cell_type": "code",
   "execution_count": 8,
   "id": "9c404e10-5b81-44dd-87ac-a2bc49130abe",
   "metadata": {},
   "outputs": [
    {
     "data": {
      "text/plain": [
       "(359, 2)"
      ]
     },
     "execution_count": 8,
     "metadata": {},
     "output_type": "execute_result"
    }
   ],
   "source": [
    "asl_df.shape"
   ]
  },
  {
   "cell_type": "code",
   "execution_count": 9,
   "id": "e9a5a60c-cd7e-493a-aef5-280208888e86",
   "metadata": {},
   "outputs": [
    {
     "data": {
      "text/plain": [
       "array(['NICE', 'THANKYOU', 'MEET', 'FINE1', 'HOW1', 'WHAT1', 'COOL4',\n",
       "       'NAME', 'HELLO', 'YOU', 'ME', 'YOUR'], dtype=object)"
      ]
     },
     "execution_count": 9,
     "metadata": {},
     "output_type": "execute_result"
    }
   ],
   "source": [
    "selected_glosses = np.array(asl_df[\"Gloss\"].unique())\n",
    "selected_glosses"
   ]
  },
  {
   "cell_type": "code",
   "execution_count": 10,
   "id": "893a5001-d0fd-4d7d-ad2f-74909b1ecc2d",
   "metadata": {},
   "outputs": [],
   "source": [
    "def clean_gloss(gloss):\n",
    "    return re.sub(r'\\d+', '', gloss).lower().strip()\n",
    "asl_df[\"Gloss\"] = asl_df[\"Gloss\"].apply(clean_gloss)"
   ]
  },
  {
   "cell_type": "code",
   "execution_count": 11,
   "id": "790c8740-bbdc-4ee2-a806-0df01a6786b3",
   "metadata": {},
   "outputs": [
    {
     "data": {
      "text/html": [
       "<div>\n",
       "<style scoped>\n",
       "    .dataframe tbody tr th:only-of-type {\n",
       "        vertical-align: middle;\n",
       "    }\n",
       "\n",
       "    .dataframe tbody tr th {\n",
       "        vertical-align: top;\n",
       "    }\n",
       "\n",
       "    .dataframe thead th {\n",
       "        text-align: right;\n",
       "    }\n",
       "</style>\n",
       "<table border=\"1\" class=\"dataframe\">\n",
       "  <thead>\n",
       "    <tr style=\"text-align: right;\">\n",
       "      <th></th>\n",
       "      <th>Video file</th>\n",
       "      <th>Gloss</th>\n",
       "    </tr>\n",
       "  </thead>\n",
       "  <tbody>\n",
       "    <tr>\n",
       "      <th>0</th>\n",
       "      <td>14154575310664197-NICE.mp4</td>\n",
       "      <td>nice</td>\n",
       "    </tr>\n",
       "    <tr>\n",
       "      <th>1</th>\n",
       "      <td>18199086230023087-NICE.mp4</td>\n",
       "      <td>nice</td>\n",
       "    </tr>\n",
       "    <tr>\n",
       "      <th>2</th>\n",
       "      <td>3597949009905055-NICE.mp4</td>\n",
       "      <td>nice</td>\n",
       "    </tr>\n",
       "    <tr>\n",
       "      <th>3</th>\n",
       "      <td>8565239257906878-NICE.mp4</td>\n",
       "      <td>nice</td>\n",
       "    </tr>\n",
       "    <tr>\n",
       "      <th>4</th>\n",
       "      <td>2575780253377702-NICE.mp4</td>\n",
       "      <td>nice</td>\n",
       "    </tr>\n",
       "    <tr>\n",
       "      <th>...</th>\n",
       "      <td>...</td>\n",
       "      <td>...</td>\n",
       "    </tr>\n",
       "    <tr>\n",
       "      <th>354</th>\n",
       "      <td>22369668985632774-YOUR.mp4</td>\n",
       "      <td>your</td>\n",
       "    </tr>\n",
       "    <tr>\n",
       "      <th>355</th>\n",
       "      <td>32521170014807677-YOUR.mp4</td>\n",
       "      <td>your</td>\n",
       "    </tr>\n",
       "    <tr>\n",
       "      <th>356</th>\n",
       "      <td>8184724937356351-YOUR.mp4</td>\n",
       "      <td>your</td>\n",
       "    </tr>\n",
       "    <tr>\n",
       "      <th>357</th>\n",
       "      <td>217732808571379-YOUR.mp4</td>\n",
       "      <td>your</td>\n",
       "    </tr>\n",
       "    <tr>\n",
       "      <th>358</th>\n",
       "      <td>6305839235811999-YOUR.mp4</td>\n",
       "      <td>your</td>\n",
       "    </tr>\n",
       "  </tbody>\n",
       "</table>\n",
       "<p>359 rows × 2 columns</p>\n",
       "</div>"
      ],
      "text/plain": [
       "                     Video file Gloss\n",
       "0    14154575310664197-NICE.mp4  nice\n",
       "1    18199086230023087-NICE.mp4  nice\n",
       "2     3597949009905055-NICE.mp4  nice\n",
       "3     8565239257906878-NICE.mp4  nice\n",
       "4     2575780253377702-NICE.mp4  nice\n",
       "..                          ...   ...\n",
       "354  22369668985632774-YOUR.mp4  your\n",
       "355  32521170014807677-YOUR.mp4  your\n",
       "356   8184724937356351-YOUR.mp4  your\n",
       "357    217732808571379-YOUR.mp4  your\n",
       "358   6305839235811999-YOUR.mp4  your\n",
       "\n",
       "[359 rows x 2 columns]"
      ]
     },
     "execution_count": 11,
     "metadata": {},
     "output_type": "execute_result"
    }
   ],
   "source": [
    "asl_df"
   ]
  },
  {
   "cell_type": "code",
   "execution_count": 12,
   "id": "d2f93c2f-3f13-47ad-bcd5-4c24e598ecab",
   "metadata": {},
   "outputs": [
    {
     "data": {
      "text/plain": [
       "array(['nice', 'thankyou', 'meet', 'fine', 'how', 'what', 'cool', 'name',\n",
       "       'hello', 'you', 'me', 'your'], dtype=object)"
      ]
     },
     "execution_count": 12,
     "metadata": {},
     "output_type": "execute_result"
    }
   ],
   "source": [
    "selected_glosses = np.array(asl_df[\"Gloss\"].unique())\n",
    "selected_glosses"
   ]
  },
  {
   "cell_type": "markdown",
   "id": "6fd7ead2-f0c4-401a-8c82-c62c2c8bca56",
   "metadata": {},
   "source": [
    "#### Augmentation"
   ]
  },
  {
   "cell_type": "code",
   "execution_count": null,
   "id": "b03a81e5-bc83-4c21-9b29-2ab5c55bc30a",
   "metadata": {
    "scrolled": true
   },
   "outputs": [],
   "source": [
    "import os\n",
    "import cv2\n",
    "import random\n",
    "import numpy as np\n",
    "import pandas as pd\n",
    "from tqdm import tqdm\n",
    "from scipy.ndimage import gaussian_filter\n",
    "\n",
    "# Define directories\n",
    "video_base_dir = r\"D:\\cDrive_Files\\GRADUATION_PROJECT\\ASL\\ASL_Gloss_30Videos\\ASL_Gloss_30Videos\"\n",
    "augmented_videos_dir = r\"D:\\cDrive_Files\\GRADUATION_PROJECT\\ASL\\augmented_data_3\"\n",
    "os.makedirs(augmented_videos_dir, exist_ok=True)\n",
    "\n",
    "# Video Augmentation Functions\n",
    "def rotate_video(frames):\n",
    "    angle = random.uniform(-5, 5)\n",
    "    h, w = frames[0].shape[:2]\n",
    "    center = (w // 2, h // 2)\n",
    "    matrix = cv2.getRotationMatrix2D(center, angle, 1.0)\n",
    "    return [cv2.warpAffine(frame, matrix, (w, h)) for frame in frames]\n",
    "\n",
    "def speed_video(frames):\n",
    "    factor = random.uniform(0.85, 1.15)\n",
    "    indices = np.linspace(0, len(frames) - 1, int(len(frames) * factor), dtype=int)\n",
    "    return [frames[i] for i in indices]\n",
    "\n",
    "def flip_frames(frames): \n",
    "    return [cv2.flip(frame, 1) for frame in frames]\n",
    "\n",
    "def brighten_video(frames):\n",
    "    factor = random.uniform(1.1, 1.4)\n",
    "    beta = random.randint(20, 50)\n",
    "    return [cv2.convertScaleAbs(frame, alpha=factor, beta=beta) for frame in frames]\n",
    "\n",
    "def adjust_contrast_video(frames, is_high=True):\n",
    "    contrast = random.randint(15, 40)\n",
    "    alpha = 1 + contrast / 100 if is_high else 1 - contrast / 100\n",
    "    return [cv2.convertScaleAbs(frame, alpha=alpha, beta=0) for frame in frames]\n",
    "\n",
    "def blur_video(frames):\n",
    "    sigma = random.uniform(0.8, 1.5)\n",
    "    return [np.clip(gaussian_filter(frame, sigma=sigma), 0, 255).astype(np.uint8) for frame in frames]\n",
    "\n",
    "def crop_video(frames):\n",
    "    margin = random.randint(20, 40)\n",
    "    h, w = frames[0].shape[:2]\n",
    "    return [frame[margin:h - margin, margin:w - margin] for frame in frames]\n",
    "\n",
    "def save_video(frames, output_path, fps=25):\n",
    "    fourcc = cv2.VideoWriter_fourcc(*'mp4v')\n",
    "    height, width, _ = frames[0].shape\n",
    "    out = cv2.VideoWriter(output_path, fourcc, fps, (width, height))\n",
    "    for frame in frames:\n",
    "        out.write(frame)\n",
    "    out.release()\n",
    "\n",
    "def augment_video(video_path, output_dir, augmentations):\n",
    "    cap = cv2.VideoCapture(video_path)\n",
    "    frames = []\n",
    "    while cap.isOpened():\n",
    "        ret, frame = cap.read()\n",
    "        if not ret:\n",
    "            break\n",
    "        frames.append(frame)\n",
    "    cap.release()\n",
    "\n",
    "    if not frames:\n",
    "        return\n",
    "\n",
    "    original_output_path = os.path.join(output_dir, f\"{os.path.basename(video_path).split('.')[0]}_original.mp4\")\n",
    "    save_video(frames, original_output_path)\n",
    "\n",
    "    for augmentation in augmentations:\n",
    "        augmented_frames = None\n",
    "        if augmentation == \"rotate\":\n",
    "            augmented_frames = rotate_video(frames)\n",
    "        elif augmentation == \"speed\":\n",
    "            augmented_frames = speed_video(frames)\n",
    "        elif augmentation == \"flip\":\n",
    "            augmented_frames = flip_frames(frames)\n",
    "        elif augmentation == \"brighten\":\n",
    "            augmented_frames = brighten_video(frames)\n",
    "        elif augmentation == \"high_contrast\":\n",
    "            augmented_frames = adjust_contrast_video(frames, is_high=True)\n",
    "        elif augmentation == \"low_contrast\":\n",
    "            augmented_frames = adjust_contrast_video(frames, is_high=False)\n",
    "        elif augmentation == \"blur\":\n",
    "            augmented_frames = blur_video(frames)\n",
    "        elif augmentation == \"crop\":\n",
    "            augmented_frames = crop_video(frames)\n",
    "\n",
    "        if augmented_frames:\n",
    "            output_path = os.path.join(output_dir, f\"{os.path.basename(video_path).split('.')[0]}_aug_{augmentation}.mp4\")\n",
    "            save_video(augmented_frames, output_path)\n",
    "\n",
    "# Process Videos\n",
    "for _, row in tqdm(asl_df.iterrows(), total=asl_df.shape[0]):\n",
    "    video_file = row[\"Video file\"]\n",
    "    gloss = row[\"Gloss\"]\n",
    "    video_path = os.path.join(video_base_dir, gloss, video_file)\n",
    "    \n",
    "    if os.path.exists(video_path):\n",
    "        gloss_dir = os.path.join(augmented_videos_dir, gloss)\n",
    "        os.makedirs(gloss_dir, exist_ok=True)\n",
    "        augment_video(\n",
    "            video_path,\n",
    "            gloss_dir,\n",
    "            augmentations=[\"rotate\", \"speed\", \"flip\", \"brighten\", \"high_contrast\", \"low_contrast\", \"blur\", \"crop\"]\n",
    "        )\n",
    "\n",
    "print(f\"Augmented videos and originals saved to {augmented_videos_dir}\")"
   ]
  },
  {
   "cell_type": "code",
   "execution_count": 51,
   "id": "5798a193-b041-4d8b-9fdd-087f3b8b3b43",
   "metadata": {},
   "outputs": [],
   "source": [
    "def draw_landmarks(image, results):\n",
    "    mp_drawing.draw_landmarks(image, results.left_hand_landmarks, mp_holistic.HAND_CONNECTIONS) # Draw left hand connections\n",
    "    mp_drawing.draw_landmarks(image, results.right_hand_landmarks, mp_holistic.HAND_CONNECTIONS) # Draw right hand connections\n",
    "\n",
    "def image_process(image, model):\n",
    "    # Convert the image from BGR to RGB\n",
    "    image = cv2.cvtColor(image, cv2.COLOR_BGR2RGB)\n",
    "    # Set the image to read-only mode\n",
    "    image.flags.writeable = False\n",
    "    # Process the image using the model\n",
    "    results = model.process(image)\n",
    "    # Set the image back to writeable mode\n",
    "    image.flags.writeable = True\n",
    "    # Convert the image back from RGB to BGR\n",
    "    image = cv2.cvtColor(image, cv2.COLOR_RGB2BGR)\n",
    "    return image, results\n",
    "\n",
    "def extract_keypoints(results):\n",
    "    \"\"\"Extract keypoints from MediaPipe results.\"\"\"\n",
    "    left_hand = np.array([[res.x, res.y, res.z] for res in results.left_hand_landmarks.landmark]).flatten() if results.left_hand_landmarks else np.zeros(21*3)\n",
    "    right_hand = np.array([[res.x, res.y, res.z] for res in results.right_hand_landmarks.landmark]).flatten() if results.right_hand_landmarks else np.zeros(21*3)\n",
    "    return np.concatenate([left_hand, right_hand])"
   ]
  },
  {
   "cell_type": "markdown",
   "id": "3ace42b0-8ccc-4768-9fe9-314053499707",
   "metadata": {},
   "source": [
    "#### Keypoints extraction"
   ]
  },
  {
   "cell_type": "code",
   "execution_count": null,
   "id": "689542b3-274c-4b95-9ea7-fe395cfde016",
   "metadata": {
    "scrolled": true
   },
   "outputs": [],
   "source": [
    "import mediapipe as mp\n",
    "import cv2\n",
    "import numpy as np\n",
    "import os\n",
    "\n",
    "# Initialize MediaPipe Holistic\n",
    "mp_holistic = mp.solutions.holistic\n",
    "mp_drawing = mp.solutions.drawing_utils\n",
    "mp_face_mesh = mp.solutions.face_mesh  # For face connections\n",
    "\n",
    "augmented_videos_dir = r\"D:\\cDrive_Files\\GRADUATION_PROJECT\\ASL\\augmented_data_3\"\n",
    "keypoints_dir = r\"D:\\cDrive_Files\\GRADUATION_PROJECT\\ASL\\MP_keypoints_5\"\n",
    "\n",
    "# Process augmented videos\n",
    "with mp_holistic.Holistic(min_detection_confidence=0.75, min_tracking_confidence=0.75) as holistic:\n",
    "    for gloss in os.listdir(augmented_videos_dir):\n",
    "        gloss_path = os.path.join(augmented_videos_dir, gloss)\n",
    "\n",
    "        if not os.path.isdir(gloss_path):\n",
    "            continue\n",
    "\n",
    "        for video_idx, video_file in enumerate(os.listdir(gloss_path)):\n",
    "            video_path = os.path.join(gloss_path, video_file)\n",
    "\n",
    "            # Load the video\n",
    "            cap = cv2.VideoCapture(video_path)\n",
    "            if not cap.isOpened():\n",
    "                print(f\"Error: Could not open video {video_file}\")\n",
    "                continue\n",
    "\n",
    "            keypoints_sequences = []\n",
    "            frame_count = 0\n",
    "\n",
    "            # Process each frame in the video\n",
    "            while True:\n",
    "                ret, frame = cap.read()\n",
    "                if not ret:\n",
    "                    break\n",
    "\n",
    "                # Make detections\n",
    "                image, results = image_process(frame, holistic)\n",
    "\n",
    "                # Draw landmarks\n",
    "                draw_landmarks(image, results)\n",
    "                \n",
    "                # Extract keypoints\n",
    "                keypoints = extract_keypoints(results)\n",
    "                keypoints_sequences.append(keypoints)\n",
    "                frame_count += 1\n",
    "\n",
    "            cap.release()\n",
    "\n",
    "            # Save keypoints\n",
    "            save_dir = os.path.join(keypoints_dir, gloss, str(video_idx))\n",
    "            os.makedirs(save_dir, exist_ok=True)\n",
    "\n",
    "            for frame_idx, keypoints in enumerate(keypoints_sequences):\n",
    "                npy_path = os.path.join(save_dir, f\"{frame_idx}.npy\")\n",
    "                np.save(npy_path, keypoints)\n",
    "\n",
    "            print(f\"Processed keypoints for gloss '{gloss}', video '{video_file}', Frames: {frame_count}, Sampled Frames: {len(keypoints_sequences)}\")\n",
    "\n",
    "print(f\"Keypoints saved in {keypoints_dir}\")"
   ]
  },
  {
   "cell_type": "code",
   "execution_count": 1,
   "id": "27cf4611-9b36-4d11-b0a6-1b0dd2f4a037",
   "metadata": {},
   "outputs": [],
   "source": [
    "def extract_most_active_segment(keypoints_sequence, target_frames):\n",
    "    num_frames = len(keypoints_sequence)\n",
    "\n",
    "    # Not enough frames for motion scoring\n",
    "    if num_frames < target_frames + 1:\n",
    "        # Pad if needed\n",
    "        if num_frames < target_frames:\n",
    "            feature_dim = len(keypoints_sequence[0])\n",
    "            padding = [np.zeros(feature_dim)] * (target_frames - num_frames)\n",
    "            return keypoints_sequence + padding\n",
    "        else:\n",
    "            # Just take a centered segment\n",
    "            start = (num_frames - target_frames) // 2\n",
    "            return keypoints_sequence[start:start + target_frames]\n",
    "\n",
    "    # Compute motion values\n",
    "    motions = [\n",
    "        np.linalg.norm(np.array(keypoints_sequence[i + 1]) - np.array(keypoints_sequence[i]))\n",
    "        for i in range(num_frames - 1)\n",
    "    ]\n",
    "\n",
    "    # Compute motion scores across sliding windows\n",
    "    motion_scores = [\n",
    "        sum(motions[i:i + target_frames - 1])\n",
    "        for i in range(len(motions) - target_frames + 1)\n",
    "    ]\n",
    "\n",
    "    # Get index of segment with most motion\n",
    "    max_index = np.argmax(motion_scores)\n",
    "    return keypoints_sequence[max_index:max_index + target_frames]\n"
   ]
  },
  {
   "cell_type": "markdown",
   "id": "e0963f35-d43d-49b0-837e-659ba265fff4",
   "metadata": {},
   "source": [
    "#### Trimming videos"
   ]
  },
  {
   "cell_type": "code",
   "execution_count": null,
   "id": "19d399fe-fb60-491a-b1dd-d0dc6c7074c6",
   "metadata": {
    "scrolled": true
   },
   "outputs": [],
   "source": [
    "# Parameters\n",
    "target_frames = 30\n",
    "keypoints_dir = r\"D:\\cDrive_Files\\GRADUATION_PROJECT\\ASL\\MP_keypoints_5\"\n",
    "trimmed_keypoints_dir = r\"D:\\cDrive_Files\\GRADUATION_PROJECT\\ASL\\keypoints_30\"\n",
    "\n",
    "# Create the destination root directory if it doesn't exist\n",
    "os.makedirs(trimmed_keypoints_dir, exist_ok=True)\n",
    "\n",
    "# Loop through all glosses and videos\n",
    "for gloss in os.listdir(keypoints_dir):\n",
    "    gloss_path = os.path.join(keypoints_dir, gloss)\n",
    "    trimmed_gloss_path = os.path.join(trimmed_keypoints_dir, gloss)\n",
    "    os.makedirs(trimmed_gloss_path, exist_ok=True)\n",
    "\n",
    "    for video_folder in os.listdir(gloss_path):\n",
    "        video_path = os.path.join(gloss_path, video_folder)\n",
    "        trimmed_video_path = os.path.join(trimmed_gloss_path, video_folder)\n",
    "        os.makedirs(trimmed_video_path, exist_ok=True)\n",
    "\n",
    "        # Load keypoints\n",
    "        frames = []\n",
    "        for i in sorted(os.listdir(video_path), key=lambda x: int(x.split('.')[0])):\n",
    "            keypoint = np.load(os.path.join(video_path, i))\n",
    "            frames.append(keypoint)\n",
    "\n",
    "        # Trim or pad\n",
    "        if len(frames) >= target_frames:\n",
    "            trimmed = extract_most_active_segment(frames, target_frames)\n",
    "        else:\n",
    "            feature_dim = len(frames[0])\n",
    "            padding = [np.zeros(feature_dim)] * (target_frames - len(frames))\n",
    "            trimmed = frames + padding\n",
    "\n",
    "        # Save trimmed keypoints\n",
    "        for idx, keypoint in enumerate(trimmed):\n",
    "            np.save(os.path.join(trimmed_video_path, f\"{idx}.npy\"), keypoint)\n",
    "\n",
    "        print(f\"Saved trimmed sequence: {trimmed_video_path}\")\n"
   ]
  },
  {
   "cell_type": "code",
   "execution_count": 52,
   "id": "6441a58d-e6ed-4fae-bab9-7c8bacda8e6d",
   "metadata": {},
   "outputs": [],
   "source": [
    "label_map = {label:num for num, label in enumerate(selected_glosses)}"
   ]
  },
  {
   "cell_type": "code",
   "execution_count": 53,
   "id": "d9dacada-de60-4a3d-ad58-c4ad343c6a3e",
   "metadata": {},
   "outputs": [
    {
     "data": {
      "text/plain": [
       "{'nice': 0,\n",
       " 'thankyou': 1,\n",
       " 'meet': 2,\n",
       " 'fine': 3,\n",
       " 'how': 4,\n",
       " 'what': 5,\n",
       " 'cool': 6,\n",
       " 'name': 7,\n",
       " 'hello': 8,\n",
       " 'you': 9,\n",
       " 'me': 10,\n",
       " 'your': 11}"
      ]
     },
     "execution_count": 53,
     "metadata": {},
     "output_type": "execute_result"
    }
   ],
   "source": [
    "label_map"
   ]
  },
  {
   "cell_type": "code",
   "execution_count": 54,
   "id": "5e288d1f-1c88-441d-a0c6-7cc21a5c2376",
   "metadata": {},
   "outputs": [],
   "source": [
    "DATA_PATH = os.path.join(r\"D:\\cDrive_Files\\GRADUATION_PROJECT\\ASL\\keypoints_30\")"
   ]
  },
  {
   "cell_type": "code",
   "execution_count": 55,
   "id": "9f307b0d-6291-4a65-9c32-0c13cc995a1a",
   "metadata": {},
   "outputs": [],
   "source": [
    "sequence_length = 30\n",
    "sequences, labels = [], []\n",
    "for gloss in selected_glosses:\n",
    "    for sequence in np.array(os.listdir(os.path.join(DATA_PATH, gloss))).astype(int):\n",
    "        window = []\n",
    "        for frame_num in range(sequence_length):\n",
    "            res = np.load(os.path.join(DATA_PATH, gloss, str(sequence), \"{}.npy\".format(frame_num)))\n",
    "            window.append(res)\n",
    "        sequences.append(window)\n",
    "        labels.append(label_map[gloss])"
   ]
  },
  {
   "cell_type": "code",
   "execution_count": 56,
   "id": "734dce6e-df02-4056-b188-405b0ad91d33",
   "metadata": {},
   "outputs": [],
   "source": [
    "X = np.array(sequences)"
   ]
  },
  {
   "cell_type": "code",
   "execution_count": 57,
   "id": "cd97181e-0eb4-4576-b6b3-19c3182e3871",
   "metadata": {
    "scrolled": true
   },
   "outputs": [
    {
     "data": {
      "text/plain": [
       "array([[[ 0.00000000e+00,  0.00000000e+00,  0.00000000e+00, ...,\n",
       "          4.60422903e-01,  6.84300959e-01, -8.16112533e-02],\n",
       "        [ 5.36895871e-01,  9.03232217e-01,  4.98772977e-07, ...,\n",
       "          5.00927031e-01,  6.63364410e-01, -8.77217501e-02],\n",
       "        [ 4.97712970e-01,  8.46662998e-01,  3.40641975e-07, ...,\n",
       "          5.35936713e-01,  6.51133657e-01, -9.45451036e-02],\n",
       "        ...,\n",
       "        [ 0.00000000e+00,  0.00000000e+00,  0.00000000e+00, ...,\n",
       "          3.82566333e-01,  8.54407668e-01, -9.48076621e-02],\n",
       "        [ 0.00000000e+00,  0.00000000e+00,  0.00000000e+00, ...,\n",
       "          4.24449235e-01,  9.70091581e-01, -1.47450879e-01],\n",
       "        [ 0.00000000e+00,  0.00000000e+00,  0.00000000e+00, ...,\n",
       "          0.00000000e+00,  0.00000000e+00,  0.00000000e+00]],\n",
       "\n",
       "       [[ 0.00000000e+00,  0.00000000e+00,  0.00000000e+00, ...,\n",
       "          0.00000000e+00,  0.00000000e+00,  0.00000000e+00],\n",
       "        [ 0.00000000e+00,  0.00000000e+00,  0.00000000e+00, ...,\n",
       "          4.59606677e-01,  6.89421654e-01, -1.13558605e-01],\n",
       "        [ 5.32454371e-01,  8.53360295e-01,  6.14076498e-07, ...,\n",
       "          5.00833631e-01,  6.59753621e-01, -8.90473947e-02],\n",
       "        ...,\n",
       "        [ 0.00000000e+00,  0.00000000e+00,  0.00000000e+00, ...,\n",
       "          0.00000000e+00,  0.00000000e+00,  0.00000000e+00],\n",
       "        [ 0.00000000e+00,  0.00000000e+00,  0.00000000e+00, ...,\n",
       "          5.38031399e-01,  7.67228127e-01, -2.31002532e-02],\n",
       "        [ 0.00000000e+00,  0.00000000e+00,  0.00000000e+00, ...,\n",
       "          0.00000000e+00,  0.00000000e+00,  0.00000000e+00]],\n",
       "\n",
       "       [[ 0.00000000e+00,  0.00000000e+00,  0.00000000e+00, ...,\n",
       "          0.00000000e+00,  0.00000000e+00,  0.00000000e+00],\n",
       "        [ 0.00000000e+00,  0.00000000e+00,  0.00000000e+00, ...,\n",
       "          0.00000000e+00,  0.00000000e+00,  0.00000000e+00],\n",
       "        [ 0.00000000e+00,  0.00000000e+00,  0.00000000e+00, ...,\n",
       "          0.00000000e+00,  0.00000000e+00,  0.00000000e+00],\n",
       "        ...,\n",
       "        [ 0.00000000e+00,  0.00000000e+00,  0.00000000e+00, ...,\n",
       "          0.00000000e+00,  0.00000000e+00,  0.00000000e+00],\n",
       "        [ 0.00000000e+00,  0.00000000e+00,  0.00000000e+00, ...,\n",
       "          0.00000000e+00,  0.00000000e+00,  0.00000000e+00],\n",
       "        [ 0.00000000e+00,  0.00000000e+00,  0.00000000e+00, ...,\n",
       "          0.00000000e+00,  0.00000000e+00,  0.00000000e+00]],\n",
       "\n",
       "       ...,\n",
       "\n",
       "       [[ 0.00000000e+00,  0.00000000e+00,  0.00000000e+00, ...,\n",
       "          0.00000000e+00,  0.00000000e+00,  0.00000000e+00],\n",
       "        [ 0.00000000e+00,  0.00000000e+00,  0.00000000e+00, ...,\n",
       "          0.00000000e+00,  0.00000000e+00,  0.00000000e+00],\n",
       "        [ 0.00000000e+00,  0.00000000e+00,  0.00000000e+00, ...,\n",
       "          0.00000000e+00,  0.00000000e+00,  0.00000000e+00],\n",
       "        ...,\n",
       "        [ 0.00000000e+00,  0.00000000e+00,  0.00000000e+00, ...,\n",
       "          0.00000000e+00,  0.00000000e+00,  0.00000000e+00],\n",
       "        [ 0.00000000e+00,  0.00000000e+00,  0.00000000e+00, ...,\n",
       "          0.00000000e+00,  0.00000000e+00,  0.00000000e+00],\n",
       "        [ 0.00000000e+00,  0.00000000e+00,  0.00000000e+00, ...,\n",
       "          0.00000000e+00,  0.00000000e+00,  0.00000000e+00]],\n",
       "\n",
       "       [[ 0.00000000e+00,  0.00000000e+00,  0.00000000e+00, ...,\n",
       "          0.00000000e+00,  0.00000000e+00,  0.00000000e+00],\n",
       "        [ 0.00000000e+00,  0.00000000e+00,  0.00000000e+00, ...,\n",
       "          0.00000000e+00,  0.00000000e+00,  0.00000000e+00],\n",
       "        [ 0.00000000e+00,  0.00000000e+00,  0.00000000e+00, ...,\n",
       "          0.00000000e+00,  0.00000000e+00,  0.00000000e+00],\n",
       "        ...,\n",
       "        [ 0.00000000e+00,  0.00000000e+00,  0.00000000e+00, ...,\n",
       "          0.00000000e+00,  0.00000000e+00,  0.00000000e+00],\n",
       "        [ 0.00000000e+00,  0.00000000e+00,  0.00000000e+00, ...,\n",
       "          0.00000000e+00,  0.00000000e+00,  0.00000000e+00],\n",
       "        [ 0.00000000e+00,  0.00000000e+00,  0.00000000e+00, ...,\n",
       "          0.00000000e+00,  0.00000000e+00,  0.00000000e+00]],\n",
       "\n",
       "       [[ 0.00000000e+00,  0.00000000e+00,  0.00000000e+00, ...,\n",
       "          0.00000000e+00,  0.00000000e+00,  0.00000000e+00],\n",
       "        [ 0.00000000e+00,  0.00000000e+00,  0.00000000e+00, ...,\n",
       "          0.00000000e+00,  0.00000000e+00,  0.00000000e+00],\n",
       "        [ 0.00000000e+00,  0.00000000e+00,  0.00000000e+00, ...,\n",
       "          0.00000000e+00,  0.00000000e+00,  0.00000000e+00],\n",
       "        ...,\n",
       "        [ 0.00000000e+00,  0.00000000e+00,  0.00000000e+00, ...,\n",
       "          3.98511648e-01,  5.53766131e-01, -7.26672783e-02],\n",
       "        [ 0.00000000e+00,  0.00000000e+00,  0.00000000e+00, ...,\n",
       "          3.97808015e-01,  6.28549993e-01, -5.66721894e-02],\n",
       "        [ 0.00000000e+00,  0.00000000e+00,  0.00000000e+00, ...,\n",
       "          0.00000000e+00,  0.00000000e+00,  0.00000000e+00]]])"
      ]
     },
     "execution_count": 57,
     "metadata": {},
     "output_type": "execute_result"
    }
   ],
   "source": [
    "X"
   ]
  },
  {
   "cell_type": "code",
   "execution_count": 58,
   "id": "b10149e2-687d-4cd1-86ad-6c4862e0c60e",
   "metadata": {},
   "outputs": [
    {
     "data": {
      "text/plain": [
       "(3231, 30, 126)"
      ]
     },
     "execution_count": 58,
     "metadata": {},
     "output_type": "execute_result"
    }
   ],
   "source": [
    "X.shape"
   ]
  },
  {
   "cell_type": "code",
   "execution_count": 59,
   "id": "91fa7c92-c5f1-452b-a8e2-c68944e44727",
   "metadata": {},
   "outputs": [
    {
     "data": {
      "text/plain": [
       "(3231,)"
      ]
     },
     "execution_count": 59,
     "metadata": {},
     "output_type": "execute_result"
    }
   ],
   "source": [
    "#y_labels.shape\n",
    "np.array(labels).shape"
   ]
  },
  {
   "cell_type": "code",
   "execution_count": 60,
   "id": "8dbe576c-c012-4b63-aecf-336d03d0a106",
   "metadata": {},
   "outputs": [
    {
     "data": {
      "text/plain": [
       "array([[1, 0, 0, ..., 0, 0, 0],\n",
       "       [1, 0, 0, ..., 0, 0, 0],\n",
       "       [1, 0, 0, ..., 0, 0, 0],\n",
       "       ...,\n",
       "       [0, 0, 0, ..., 0, 0, 1],\n",
       "       [0, 0, 0, ..., 0, 0, 1],\n",
       "       [0, 0, 0, ..., 0, 0, 1]])"
      ]
     },
     "execution_count": 60,
     "metadata": {},
     "output_type": "execute_result"
    }
   ],
   "source": [
    "y = to_categorical(labels).astype(int)\n",
    "y"
   ]
  },
  {
   "cell_type": "code",
   "execution_count": 61,
   "id": "0be81cce-f126-4902-8234-3bc023434478",
   "metadata": {},
   "outputs": [
    {
     "data": {
      "text/plain": [
       "(3231, 12)"
      ]
     },
     "execution_count": 61,
     "metadata": {},
     "output_type": "execute_result"
    }
   ],
   "source": [
    "y.shape"
   ]
  },
  {
   "cell_type": "markdown",
   "id": "7d9e7ecb-f12e-4fd0-a4ad-95243da1c074",
   "metadata": {},
   "source": [
    "## Data Splitting"
   ]
  },
  {
   "cell_type": "code",
   "execution_count": 62,
   "id": "a4c3c33f-470c-4009-afc7-a2c16d1183f8",
   "metadata": {},
   "outputs": [],
   "source": [
    "X_train, X_test, y_train, y_test = train_test_split(X, y, test_size=0.05, random_state=34, stratify=y)"
   ]
  },
  {
   "cell_type": "code",
   "execution_count": 63,
   "id": "bb679922-d79c-41c1-ab05-231ade4e60ac",
   "metadata": {},
   "outputs": [
    {
     "data": {
      "text/plain": [
       "(162, 12)"
      ]
     },
     "execution_count": 63,
     "metadata": {},
     "output_type": "execute_result"
    }
   ],
   "source": [
    "y_test.shape"
   ]
  },
  {
   "cell_type": "code",
   "execution_count": 64,
   "id": "bf90673d-29f2-471f-99af-a03277379b95",
   "metadata": {},
   "outputs": [
    {
     "data": {
      "text/plain": [
       "(3069, 12)"
      ]
     },
     "execution_count": 64,
     "metadata": {},
     "output_type": "execute_result"
    }
   ],
   "source": [
    "y_train.shape"
   ]
  },
  {
   "cell_type": "markdown",
   "id": "c28b1ba1-8c38-4d15-979a-a95fb45b66b8",
   "metadata": {},
   "source": [
    "## Training the model"
   ]
  },
  {
   "cell_type": "code",
   "execution_count": 141,
   "id": "14fd598a-f574-4689-a0a7-ef79089dcaa6",
   "metadata": {},
   "outputs": [],
   "source": [
    "log_dir = os.path.join('Logs')\n",
    "tb_callback = TensorBoard(log_dir=log_dir)"
   ]
  },
  {
   "cell_type": "code",
   "execution_count": 84,
   "id": "b75e2c64-b932-4a20-a0a2-ead13f1fd5a0",
   "metadata": {
    "scrolled": true
   },
   "outputs": [],
   "source": [
    "model = models.Sequential()\n",
    "model.add(layers.Input(shape=(X_train.shape[1], X_train.shape[2])))\n",
    "model.add(Masking(mask_value=0.0))\n",
    "#model.add(layers.LSTM(32, return_sequences=True, activation='relu'))\n",
    "model.add(layers.LSTM(64, return_sequences=True, activation='relu'))\n",
    "model.add(BatchNormalization())\n",
    "model.add(Dropout(0.2))\n",
    "model.add(layers.LSTM(64, activation='relu'))\n",
    "model.add(BatchNormalization())\n",
    "model.add(Dropout(0.2))\n",
    "model.add(layers.Dense(32, activation='relu'))\n",
    "model.add(Dropout(0.2))\n",
    "model.add(layers.Dense(selected_glosses.shape[0], activation='softmax'))"
   ]
  },
  {
   "cell_type": "code",
   "execution_count": 85,
   "id": "185ef25e-cb7e-41cf-9861-e8b29697c8e0",
   "metadata": {},
   "outputs": [],
   "source": [
    "# ['nice', 'thankyou', 'meet', 'fine', 'how', 'what', 'cool', 'name', 'hello', 'you', 'me', 'your']\n",
    "res = [0.1, 0.2, 0.29, 0.19, 0.22, 0.36, 0.58, 0.78, 0.6, 0.17, 0.42, 0.9]"
   ]
  },
  {
   "cell_type": "code",
   "execution_count": 86,
   "id": "0b5da879-8916-4663-9b34-922caf87b5cf",
   "metadata": {},
   "outputs": [
    {
     "data": {
      "text/plain": [
       "'your'"
      ]
     },
     "execution_count": 86,
     "metadata": {},
     "output_type": "execute_result"
    }
   ],
   "source": [
    "selected_glosses[np.argmax(res)]"
   ]
  },
  {
   "cell_type": "code",
   "execution_count": 87,
   "id": "40e20f1b-8a45-40af-95ea-2fecb977f4f0",
   "metadata": {},
   "outputs": [
    {
     "data": {
      "text/html": [
       "<pre style=\"white-space:pre;overflow-x:auto;line-height:normal;font-family:Menlo,'DejaVu Sans Mono',consolas,'Courier New',monospace\"><span style=\"font-weight: bold\">Model: \"sequential_3\"</span>\n",
       "</pre>\n"
      ],
      "text/plain": [
       "\u001b[1mModel: \"sequential_3\"\u001b[0m\n"
      ]
     },
     "metadata": {},
     "output_type": "display_data"
    },
    {
     "data": {
      "text/html": [
       "<pre style=\"white-space:pre;overflow-x:auto;line-height:normal;font-family:Menlo,'DejaVu Sans Mono',consolas,'Courier New',monospace\">┏━━━━━━━━━━━━━━━━━━━━━━━━━━━━━━━━━┳━━━━━━━━━━━━━━━━━━━━━━━━┳━━━━━━━━━━━━━━━┓\n",
       "┃<span style=\"font-weight: bold\"> Layer (type)                    </span>┃<span style=\"font-weight: bold\"> Output Shape           </span>┃<span style=\"font-weight: bold\">       Param # </span>┃\n",
       "┡━━━━━━━━━━━━━━━━━━━━━━━━━━━━━━━━━╇━━━━━━━━━━━━━━━━━━━━━━━━╇━━━━━━━━━━━━━━━┩\n",
       "│ masking_3 (<span style=\"color: #0087ff; text-decoration-color: #0087ff\">Masking</span>)             │ (<span style=\"color: #00d7ff; text-decoration-color: #00d7ff\">None</span>, <span style=\"color: #00af00; text-decoration-color: #00af00\">30</span>, <span style=\"color: #00af00; text-decoration-color: #00af00\">126</span>)        │             <span style=\"color: #00af00; text-decoration-color: #00af00\">0</span> │\n",
       "├─────────────────────────────────┼────────────────────────┼───────────────┤\n",
       "│ lstm_6 (<span style=\"color: #0087ff; text-decoration-color: #0087ff\">LSTM</span>)                   │ (<span style=\"color: #00d7ff; text-decoration-color: #00d7ff\">None</span>, <span style=\"color: #00af00; text-decoration-color: #00af00\">30</span>, <span style=\"color: #00af00; text-decoration-color: #00af00\">64</span>)         │        <span style=\"color: #00af00; text-decoration-color: #00af00\">48,896</span> │\n",
       "├─────────────────────────────────┼────────────────────────┼───────────────┤\n",
       "│ batch_normalization             │ (<span style=\"color: #00d7ff; text-decoration-color: #00d7ff\">None</span>, <span style=\"color: #00af00; text-decoration-color: #00af00\">30</span>, <span style=\"color: #00af00; text-decoration-color: #00af00\">64</span>)         │           <span style=\"color: #00af00; text-decoration-color: #00af00\">256</span> │\n",
       "│ (<span style=\"color: #0087ff; text-decoration-color: #0087ff\">BatchNormalization</span>)            │                        │               │\n",
       "├─────────────────────────────────┼────────────────────────┼───────────────┤\n",
       "│ dropout (<span style=\"color: #0087ff; text-decoration-color: #0087ff\">Dropout</span>)               │ (<span style=\"color: #00d7ff; text-decoration-color: #00d7ff\">None</span>, <span style=\"color: #00af00; text-decoration-color: #00af00\">30</span>, <span style=\"color: #00af00; text-decoration-color: #00af00\">64</span>)         │             <span style=\"color: #00af00; text-decoration-color: #00af00\">0</span> │\n",
       "├─────────────────────────────────┼────────────────────────┼───────────────┤\n",
       "│ lstm_7 (<span style=\"color: #0087ff; text-decoration-color: #0087ff\">LSTM</span>)                   │ (<span style=\"color: #00d7ff; text-decoration-color: #00d7ff\">None</span>, <span style=\"color: #00af00; text-decoration-color: #00af00\">64</span>)             │        <span style=\"color: #00af00; text-decoration-color: #00af00\">33,024</span> │\n",
       "├─────────────────────────────────┼────────────────────────┼───────────────┤\n",
       "│ batch_normalization_1           │ (<span style=\"color: #00d7ff; text-decoration-color: #00d7ff\">None</span>, <span style=\"color: #00af00; text-decoration-color: #00af00\">64</span>)             │           <span style=\"color: #00af00; text-decoration-color: #00af00\">256</span> │\n",
       "│ (<span style=\"color: #0087ff; text-decoration-color: #0087ff\">BatchNormalization</span>)            │                        │               │\n",
       "├─────────────────────────────────┼────────────────────────┼───────────────┤\n",
       "│ dropout_1 (<span style=\"color: #0087ff; text-decoration-color: #0087ff\">Dropout</span>)             │ (<span style=\"color: #00d7ff; text-decoration-color: #00d7ff\">None</span>, <span style=\"color: #00af00; text-decoration-color: #00af00\">64</span>)             │             <span style=\"color: #00af00; text-decoration-color: #00af00\">0</span> │\n",
       "├─────────────────────────────────┼────────────────────────┼───────────────┤\n",
       "│ dense_6 (<span style=\"color: #0087ff; text-decoration-color: #0087ff\">Dense</span>)                 │ (<span style=\"color: #00d7ff; text-decoration-color: #00d7ff\">None</span>, <span style=\"color: #00af00; text-decoration-color: #00af00\">32</span>)             │         <span style=\"color: #00af00; text-decoration-color: #00af00\">2,080</span> │\n",
       "├─────────────────────────────────┼────────────────────────┼───────────────┤\n",
       "│ dropout_2 (<span style=\"color: #0087ff; text-decoration-color: #0087ff\">Dropout</span>)             │ (<span style=\"color: #00d7ff; text-decoration-color: #00d7ff\">None</span>, <span style=\"color: #00af00; text-decoration-color: #00af00\">32</span>)             │             <span style=\"color: #00af00; text-decoration-color: #00af00\">0</span> │\n",
       "├─────────────────────────────────┼────────────────────────┼───────────────┤\n",
       "│ dense_7 (<span style=\"color: #0087ff; text-decoration-color: #0087ff\">Dense</span>)                 │ (<span style=\"color: #00d7ff; text-decoration-color: #00d7ff\">None</span>, <span style=\"color: #00af00; text-decoration-color: #00af00\">12</span>)             │           <span style=\"color: #00af00; text-decoration-color: #00af00\">396</span> │\n",
       "└─────────────────────────────────┴────────────────────────┴───────────────┘\n",
       "</pre>\n"
      ],
      "text/plain": [
       "┏━━━━━━━━━━━━━━━━━━━━━━━━━━━━━━━━━┳━━━━━━━━━━━━━━━━━━━━━━━━┳━━━━━━━━━━━━━━━┓\n",
       "┃\u001b[1m \u001b[0m\u001b[1mLayer (type)                   \u001b[0m\u001b[1m \u001b[0m┃\u001b[1m \u001b[0m\u001b[1mOutput Shape          \u001b[0m\u001b[1m \u001b[0m┃\u001b[1m \u001b[0m\u001b[1m      Param #\u001b[0m\u001b[1m \u001b[0m┃\n",
       "┡━━━━━━━━━━━━━━━━━━━━━━━━━━━━━━━━━╇━━━━━━━━━━━━━━━━━━━━━━━━╇━━━━━━━━━━━━━━━┩\n",
       "│ masking_3 (\u001b[38;5;33mMasking\u001b[0m)             │ (\u001b[38;5;45mNone\u001b[0m, \u001b[38;5;34m30\u001b[0m, \u001b[38;5;34m126\u001b[0m)        │             \u001b[38;5;34m0\u001b[0m │\n",
       "├─────────────────────────────────┼────────────────────────┼───────────────┤\n",
       "│ lstm_6 (\u001b[38;5;33mLSTM\u001b[0m)                   │ (\u001b[38;5;45mNone\u001b[0m, \u001b[38;5;34m30\u001b[0m, \u001b[38;5;34m64\u001b[0m)         │        \u001b[38;5;34m48,896\u001b[0m │\n",
       "├─────────────────────────────────┼────────────────────────┼───────────────┤\n",
       "│ batch_normalization             │ (\u001b[38;5;45mNone\u001b[0m, \u001b[38;5;34m30\u001b[0m, \u001b[38;5;34m64\u001b[0m)         │           \u001b[38;5;34m256\u001b[0m │\n",
       "│ (\u001b[38;5;33mBatchNormalization\u001b[0m)            │                        │               │\n",
       "├─────────────────────────────────┼────────────────────────┼───────────────┤\n",
       "│ dropout (\u001b[38;5;33mDropout\u001b[0m)               │ (\u001b[38;5;45mNone\u001b[0m, \u001b[38;5;34m30\u001b[0m, \u001b[38;5;34m64\u001b[0m)         │             \u001b[38;5;34m0\u001b[0m │\n",
       "├─────────────────────────────────┼────────────────────────┼───────────────┤\n",
       "│ lstm_7 (\u001b[38;5;33mLSTM\u001b[0m)                   │ (\u001b[38;5;45mNone\u001b[0m, \u001b[38;5;34m64\u001b[0m)             │        \u001b[38;5;34m33,024\u001b[0m │\n",
       "├─────────────────────────────────┼────────────────────────┼───────────────┤\n",
       "│ batch_normalization_1           │ (\u001b[38;5;45mNone\u001b[0m, \u001b[38;5;34m64\u001b[0m)             │           \u001b[38;5;34m256\u001b[0m │\n",
       "│ (\u001b[38;5;33mBatchNormalization\u001b[0m)            │                        │               │\n",
       "├─────────────────────────────────┼────────────────────────┼───────────────┤\n",
       "│ dropout_1 (\u001b[38;5;33mDropout\u001b[0m)             │ (\u001b[38;5;45mNone\u001b[0m, \u001b[38;5;34m64\u001b[0m)             │             \u001b[38;5;34m0\u001b[0m │\n",
       "├─────────────────────────────────┼────────────────────────┼───────────────┤\n",
       "│ dense_6 (\u001b[38;5;33mDense\u001b[0m)                 │ (\u001b[38;5;45mNone\u001b[0m, \u001b[38;5;34m32\u001b[0m)             │         \u001b[38;5;34m2,080\u001b[0m │\n",
       "├─────────────────────────────────┼────────────────────────┼───────────────┤\n",
       "│ dropout_2 (\u001b[38;5;33mDropout\u001b[0m)             │ (\u001b[38;5;45mNone\u001b[0m, \u001b[38;5;34m32\u001b[0m)             │             \u001b[38;5;34m0\u001b[0m │\n",
       "├─────────────────────────────────┼────────────────────────┼───────────────┤\n",
       "│ dense_7 (\u001b[38;5;33mDense\u001b[0m)                 │ (\u001b[38;5;45mNone\u001b[0m, \u001b[38;5;34m12\u001b[0m)             │           \u001b[38;5;34m396\u001b[0m │\n",
       "└─────────────────────────────────┴────────────────────────┴───────────────┘\n"
      ]
     },
     "metadata": {},
     "output_type": "display_data"
    },
    {
     "data": {
      "text/html": [
       "<pre style=\"white-space:pre;overflow-x:auto;line-height:normal;font-family:Menlo,'DejaVu Sans Mono',consolas,'Courier New',monospace\"><span style=\"font-weight: bold\"> Total params: </span><span style=\"color: #00af00; text-decoration-color: #00af00\">84,908</span> (331.67 KB)\n",
       "</pre>\n"
      ],
      "text/plain": [
       "\u001b[1m Total params: \u001b[0m\u001b[38;5;34m84,908\u001b[0m (331.67 KB)\n"
      ]
     },
     "metadata": {},
     "output_type": "display_data"
    },
    {
     "data": {
      "text/html": [
       "<pre style=\"white-space:pre;overflow-x:auto;line-height:normal;font-family:Menlo,'DejaVu Sans Mono',consolas,'Courier New',monospace\"><span style=\"font-weight: bold\"> Trainable params: </span><span style=\"color: #00af00; text-decoration-color: #00af00\">84,652</span> (330.67 KB)\n",
       "</pre>\n"
      ],
      "text/plain": [
       "\u001b[1m Trainable params: \u001b[0m\u001b[38;5;34m84,652\u001b[0m (330.67 KB)\n"
      ]
     },
     "metadata": {},
     "output_type": "display_data"
    },
    {
     "data": {
      "text/html": [
       "<pre style=\"white-space:pre;overflow-x:auto;line-height:normal;font-family:Menlo,'DejaVu Sans Mono',consolas,'Courier New',monospace\"><span style=\"font-weight: bold\"> Non-trainable params: </span><span style=\"color: #00af00; text-decoration-color: #00af00\">256</span> (1.00 KB)\n",
       "</pre>\n"
      ],
      "text/plain": [
       "\u001b[1m Non-trainable params: \u001b[0m\u001b[38;5;34m256\u001b[0m (1.00 KB)\n"
      ]
     },
     "metadata": {},
     "output_type": "display_data"
    }
   ],
   "source": [
    "model.summary()"
   ]
  },
  {
   "cell_type": "code",
   "execution_count": 88,
   "id": "af80d384-76b7-4943-82bf-3b7a9b1173c1",
   "metadata": {},
   "outputs": [],
   "source": [
    "model.compile(optimizer='Adam', loss='categorical_crossentropy', metrics=['categorical_accuracy'])"
   ]
  },
  {
   "cell_type": "code",
   "execution_count": 76,
   "id": "e8ed0886-a49b-461b-8028-2d11819cdeec",
   "metadata": {},
   "outputs": [],
   "source": [
    "# early_stopping = EarlyStopping(monitor='val_loss', patience=10)"
   ]
  },
  {
   "cell_type": "code",
   "execution_count": 89,
   "id": "b775f367-7e59-47d3-990a-c75a9798146d",
   "metadata": {
    "scrolled": true
   },
   "outputs": [
    {
     "name": "stdout",
     "output_type": "stream",
     "text": [
      "Epoch 1/1000\n",
      "\u001b[1m96/96\u001b[0m \u001b[32m━━━━━━━━━━━━━━━━━━━━\u001b[0m\u001b[37m\u001b[0m \u001b[1m9s\u001b[0m 28ms/step - categorical_accuracy: 0.3383 - loss: 2.0506 - val_categorical_accuracy: 0.0988 - val_loss: 2.3892\n",
      "Epoch 2/1000\n",
      "\u001b[1m96/96\u001b[0m \u001b[32m━━━━━━━━━━━━━━━━━━━━\u001b[0m\u001b[37m\u001b[0m \u001b[1m2s\u001b[0m 21ms/step - categorical_accuracy: 0.7639 - loss: 0.8803 - val_categorical_accuracy: 0.4321 - val_loss: 2.1137\n",
      "Epoch 3/1000\n",
      "\u001b[1m96/96\u001b[0m \u001b[32m━━━━━━━━━━━━━━━━━━━━\u001b[0m\u001b[37m\u001b[0m \u001b[1m2s\u001b[0m 19ms/step - categorical_accuracy: 0.8225 - loss: 0.6347 - val_categorical_accuracy: 0.4938 - val_loss: 1.6735\n",
      "Epoch 4/1000\n",
      "\u001b[1m96/96\u001b[0m \u001b[32m━━━━━━━━━━━━━━━━━━━━\u001b[0m\u001b[37m\u001b[0m \u001b[1m2s\u001b[0m 19ms/step - categorical_accuracy: 0.8608 - loss: 0.4877 - val_categorical_accuracy: 0.6420 - val_loss: 1.4191\n",
      "Epoch 5/1000\n",
      "\u001b[1m96/96\u001b[0m \u001b[32m━━━━━━━━━━━━━━━━━━━━\u001b[0m\u001b[37m\u001b[0m \u001b[1m2s\u001b[0m 19ms/step - categorical_accuracy: 0.8765 - loss: 0.4374 - val_categorical_accuracy: 0.6975 - val_loss: 0.9281\n",
      "Epoch 6/1000\n",
      "\u001b[1m96/96\u001b[0m \u001b[32m━━━━━━━━━━━━━━━━━━━━\u001b[0m\u001b[37m\u001b[0m \u001b[1m2s\u001b[0m 21ms/step - categorical_accuracy: 0.9021 - loss: 0.3505 - val_categorical_accuracy: 0.8827 - val_loss: 0.4482\n",
      "Epoch 7/1000\n",
      "\u001b[1m96/96\u001b[0m \u001b[32m━━━━━━━━━━━━━━━━━━━━\u001b[0m\u001b[37m\u001b[0m \u001b[1m2s\u001b[0m 18ms/step - categorical_accuracy: 0.8998 - loss: 0.3275 - val_categorical_accuracy: 0.8765 - val_loss: 0.4481\n",
      "Epoch 8/1000\n",
      "\u001b[1m96/96\u001b[0m \u001b[32m━━━━━━━━━━━━━━━━━━━━\u001b[0m\u001b[37m\u001b[0m \u001b[1m2s\u001b[0m 18ms/step - categorical_accuracy: 0.9204 - loss: 0.2826 - val_categorical_accuracy: 0.9074 - val_loss: 0.3038\n",
      "Epoch 9/1000\n",
      "\u001b[1m96/96\u001b[0m \u001b[32m━━━━━━━━━━━━━━━━━━━━\u001b[0m\u001b[37m\u001b[0m \u001b[1m2s\u001b[0m 22ms/step - categorical_accuracy: 0.9400 - loss: 0.2094 - val_categorical_accuracy: 0.9136 - val_loss: 0.3527\n",
      "Epoch 10/1000\n",
      "\u001b[1m96/96\u001b[0m \u001b[32m━━━━━━━━━━━━━━━━━━━━\u001b[0m\u001b[37m\u001b[0m \u001b[1m2s\u001b[0m 20ms/step - categorical_accuracy: 0.9294 - loss: 0.2691 - val_categorical_accuracy: 0.8889 - val_loss: 0.4419\n",
      "Epoch 11/1000\n",
      "\u001b[1m96/96\u001b[0m \u001b[32m━━━━━━━━━━━━━━━━━━━━\u001b[0m\u001b[37m\u001b[0m \u001b[1m2s\u001b[0m 22ms/step - categorical_accuracy: 0.9301 - loss: 0.2577 - val_categorical_accuracy: 0.8457 - val_loss: 0.6847\n",
      "Epoch 12/1000\n",
      "\u001b[1m96/96\u001b[0m \u001b[32m━━━━━━━━━━━━━━━━━━━━\u001b[0m\u001b[37m\u001b[0m \u001b[1m2s\u001b[0m 19ms/step - categorical_accuracy: 0.9357 - loss: 0.2386 - val_categorical_accuracy: 0.7840 - val_loss: 1.2023\n",
      "Epoch 13/1000\n",
      "\u001b[1m96/96\u001b[0m \u001b[32m━━━━━━━━━━━━━━━━━━━━\u001b[0m\u001b[37m\u001b[0m \u001b[1m2s\u001b[0m 20ms/step - categorical_accuracy: 0.9512 - loss: 0.1885 - val_categorical_accuracy: 0.9568 - val_loss: 0.1357\n",
      "Epoch 14/1000\n",
      "\u001b[1m96/96\u001b[0m \u001b[32m━━━━━━━━━━━━━━━━━━━━\u001b[0m\u001b[37m\u001b[0m \u001b[1m2s\u001b[0m 21ms/step - categorical_accuracy: 0.9504 - loss: 0.1799 - val_categorical_accuracy: 0.9383 - val_loss: 0.1929\n",
      "Epoch 15/1000\n",
      "\u001b[1m96/96\u001b[0m \u001b[32m━━━━━━━━━━━━━━━━━━━━\u001b[0m\u001b[37m\u001b[0m \u001b[1m2s\u001b[0m 20ms/step - categorical_accuracy: 0.9566 - loss: 0.1651 - val_categorical_accuracy: 0.9506 - val_loss: 0.2829\n",
      "Epoch 16/1000\n",
      "\u001b[1m96/96\u001b[0m \u001b[32m━━━━━━━━━━━━━━━━━━━━\u001b[0m\u001b[37m\u001b[0m \u001b[1m2s\u001b[0m 20ms/step - categorical_accuracy: 0.9608 - loss: 0.1456 - val_categorical_accuracy: 0.9383 - val_loss: 0.2858\n",
      "Epoch 17/1000\n",
      "\u001b[1m96/96\u001b[0m \u001b[32m━━━━━━━━━━━━━━━━━━━━\u001b[0m\u001b[37m\u001b[0m \u001b[1m2s\u001b[0m 24ms/step - categorical_accuracy: 0.9537 - loss: 0.1827 - val_categorical_accuracy: 0.9074 - val_loss: 0.3586\n",
      "Epoch 18/1000\n",
      "\u001b[1m96/96\u001b[0m \u001b[32m━━━━━━━━━━━━━━━━━━━━\u001b[0m\u001b[37m\u001b[0m \u001b[1m2s\u001b[0m 21ms/step - categorical_accuracy: 0.9518 - loss: 0.1803 - val_categorical_accuracy: 0.9568 - val_loss: 0.1900\n",
      "Epoch 19/1000\n",
      "\u001b[1m96/96\u001b[0m \u001b[32m━━━━━━━━━━━━━━━━━━━━\u001b[0m\u001b[37m\u001b[0m \u001b[1m2s\u001b[0m 19ms/step - categorical_accuracy: 0.9615 - loss: 0.1452 - val_categorical_accuracy: 0.9753 - val_loss: 0.1284\n",
      "Epoch 20/1000\n",
      "\u001b[1m96/96\u001b[0m \u001b[32m━━━━━━━━━━━━━━━━━━━━\u001b[0m\u001b[37m\u001b[0m \u001b[1m2s\u001b[0m 24ms/step - categorical_accuracy: 0.9722 - loss: 0.1137 - val_categorical_accuracy: 0.8580 - val_loss: 0.5780\n",
      "Epoch 21/1000\n",
      "\u001b[1m96/96\u001b[0m \u001b[32m━━━━━━━━━━━━━━━━━━━━\u001b[0m\u001b[37m\u001b[0m \u001b[1m2s\u001b[0m 20ms/step - categorical_accuracy: 0.9493 - loss: 0.1784 - val_categorical_accuracy: 0.9321 - val_loss: 0.2301\n",
      "Epoch 22/1000\n",
      "\u001b[1m96/96\u001b[0m \u001b[32m━━━━━━━━━━━━━━━━━━━━\u001b[0m\u001b[37m\u001b[0m \u001b[1m2s\u001b[0m 22ms/step - categorical_accuracy: 0.9607 - loss: 0.1577 - val_categorical_accuracy: 0.9630 - val_loss: 0.1675\n",
      "Epoch 23/1000\n",
      "\u001b[1m96/96\u001b[0m \u001b[32m━━━━━━━━━━━━━━━━━━━━\u001b[0m\u001b[37m\u001b[0m \u001b[1m2s\u001b[0m 24ms/step - categorical_accuracy: 0.9650 - loss: 0.1252 - val_categorical_accuracy: 0.9506 - val_loss: 0.1897\n",
      "Epoch 24/1000\n",
      "\u001b[1m96/96\u001b[0m \u001b[32m━━━━━━━━━━━━━━━━━━━━\u001b[0m\u001b[37m\u001b[0m \u001b[1m2s\u001b[0m 23ms/step - categorical_accuracy: 0.9652 - loss: 0.1301 - val_categorical_accuracy: 0.9691 - val_loss: 0.1205\n",
      "Epoch 25/1000\n",
      "\u001b[1m96/96\u001b[0m \u001b[32m━━━━━━━━━━━━━━━━━━━━\u001b[0m\u001b[37m\u001b[0m \u001b[1m2s\u001b[0m 21ms/step - categorical_accuracy: 0.9698 - loss: 0.1015 - val_categorical_accuracy: 0.9012 - val_loss: 0.2871\n",
      "Epoch 26/1000\n",
      "\u001b[1m96/96\u001b[0m \u001b[32m━━━━━━━━━━━━━━━━━━━━\u001b[0m\u001b[37m\u001b[0m \u001b[1m2s\u001b[0m 19ms/step - categorical_accuracy: 0.9717 - loss: 0.1118 - val_categorical_accuracy: 0.9568 - val_loss: 0.2240\n",
      "Epoch 27/1000\n",
      "\u001b[1m96/96\u001b[0m \u001b[32m━━━━━━━━━━━━━━━━━━━━\u001b[0m\u001b[37m\u001b[0m \u001b[1m2s\u001b[0m 19ms/step - categorical_accuracy: 0.9738 - loss: 0.1014 - val_categorical_accuracy: 0.9753 - val_loss: 0.1267\n",
      "Epoch 28/1000\n",
      "\u001b[1m96/96\u001b[0m \u001b[32m━━━━━━━━━━━━━━━━━━━━\u001b[0m\u001b[37m\u001b[0m \u001b[1m2s\u001b[0m 20ms/step - categorical_accuracy: 0.9765 - loss: 0.0944 - val_categorical_accuracy: 0.8889 - val_loss: 0.3918\n",
      "Epoch 29/1000\n",
      "\u001b[1m96/96\u001b[0m \u001b[32m━━━━━━━━━━━━━━━━━━━━\u001b[0m\u001b[37m\u001b[0m \u001b[1m2s\u001b[0m 20ms/step - categorical_accuracy: 0.9648 - loss: 0.1450 - val_categorical_accuracy: 0.9691 - val_loss: 0.2358\n",
      "Epoch 30/1000\n",
      "\u001b[1m96/96\u001b[0m \u001b[32m━━━━━━━━━━━━━━━━━━━━\u001b[0m\u001b[37m\u001b[0m \u001b[1m2s\u001b[0m 21ms/step - categorical_accuracy: 0.9743 - loss: 0.0998 - val_categorical_accuracy: 0.9630 - val_loss: 0.2269\n",
      "Epoch 31/1000\n",
      "\u001b[1m96/96\u001b[0m \u001b[32m━━━━━━━━━━━━━━━━━━━━\u001b[0m\u001b[37m\u001b[0m \u001b[1m2s\u001b[0m 21ms/step - categorical_accuracy: 0.9732 - loss: 0.0944 - val_categorical_accuracy: 0.9444 - val_loss: 0.2140\n",
      "Epoch 32/1000\n",
      "\u001b[1m96/96\u001b[0m \u001b[32m━━━━━━━━━━━━━━━━━━━━\u001b[0m\u001b[37m\u001b[0m \u001b[1m2s\u001b[0m 20ms/step - categorical_accuracy: 0.9704 - loss: 0.1186 - val_categorical_accuracy: 0.9630 - val_loss: 0.2072\n",
      "Epoch 33/1000\n",
      "\u001b[1m96/96\u001b[0m \u001b[32m━━━━━━━━━━━━━━━━━━━━\u001b[0m\u001b[37m\u001b[0m \u001b[1m2s\u001b[0m 21ms/step - categorical_accuracy: 0.9656 - loss: 0.1055 - val_categorical_accuracy: 0.9321 - val_loss: 0.3341\n",
      "Epoch 34/1000\n",
      "\u001b[1m96/96\u001b[0m \u001b[32m━━━━━━━━━━━━━━━━━━━━\u001b[0m\u001b[37m\u001b[0m \u001b[1m2s\u001b[0m 24ms/step - categorical_accuracy: 0.9691 - loss: 0.1122 - val_categorical_accuracy: 0.9630 - val_loss: 0.2167\n",
      "Epoch 35/1000\n",
      "\u001b[1m96/96\u001b[0m \u001b[32m━━━━━━━━━━━━━━━━━━━━\u001b[0m\u001b[37m\u001b[0m \u001b[1m2s\u001b[0m 22ms/step - categorical_accuracy: 0.9739 - loss: 0.1034 - val_categorical_accuracy: 0.9753 - val_loss: 0.1829\n",
      "Epoch 36/1000\n",
      "\u001b[1m96/96\u001b[0m \u001b[32m━━━━━━━━━━━━━━━━━━━━\u001b[0m\u001b[37m\u001b[0m \u001b[1m2s\u001b[0m 21ms/step - categorical_accuracy: 0.9752 - loss: 0.0877 - val_categorical_accuracy: 0.9506 - val_loss: 0.2380\n",
      "Epoch 37/1000\n",
      "\u001b[1m96/96\u001b[0m \u001b[32m━━━━━━━━━━━━━━━━━━━━\u001b[0m\u001b[37m\u001b[0m \u001b[1m2s\u001b[0m 22ms/step - categorical_accuracy: 0.9698 - loss: 0.1164 - val_categorical_accuracy: 0.9259 - val_loss: 0.3086\n",
      "Epoch 38/1000\n",
      "\u001b[1m96/96\u001b[0m \u001b[32m━━━━━━━━━━━━━━━━━━━━\u001b[0m\u001b[37m\u001b[0m \u001b[1m2s\u001b[0m 21ms/step - categorical_accuracy: 0.9807 - loss: 0.0664 - val_categorical_accuracy: 0.9259 - val_loss: 0.3101\n",
      "Epoch 39/1000\n",
      "\u001b[1m96/96\u001b[0m \u001b[32m━━━━━━━━━━━━━━━━━━━━\u001b[0m\u001b[37m\u001b[0m \u001b[1m2s\u001b[0m 23ms/step - categorical_accuracy: 0.9816 - loss: 0.0644 - val_categorical_accuracy: 0.9506 - val_loss: 0.2645\n",
      "Epoch 40/1000\n",
      "\u001b[1m96/96\u001b[0m \u001b[32m━━━━━━━━━━━━━━━━━━━━\u001b[0m\u001b[37m\u001b[0m \u001b[1m2s\u001b[0m 22ms/step - categorical_accuracy: 0.9752 - loss: 0.0866 - val_categorical_accuracy: 0.8951 - val_loss: 0.3997\n",
      "Epoch 41/1000\n",
      "\u001b[1m96/96\u001b[0m \u001b[32m━━━━━━━━━━━━━━━━━━━━\u001b[0m\u001b[37m\u001b[0m \u001b[1m2s\u001b[0m 23ms/step - categorical_accuracy: 0.9578 - loss: 0.1467 - val_categorical_accuracy: 0.9506 - val_loss: 0.2823\n",
      "Epoch 42/1000\n",
      "\u001b[1m96/96\u001b[0m \u001b[32m━━━━━━━━━━━━━━━━━━━━\u001b[0m\u001b[37m\u001b[0m \u001b[1m2s\u001b[0m 20ms/step - categorical_accuracy: 0.9718 - loss: 0.0995 - val_categorical_accuracy: 0.9321 - val_loss: 0.5132\n",
      "Epoch 43/1000\n",
      "\u001b[1m96/96\u001b[0m \u001b[32m━━━━━━━━━━━━━━━━━━━━\u001b[0m\u001b[37m\u001b[0m \u001b[1m2s\u001b[0m 24ms/step - categorical_accuracy: 0.9723 - loss: 0.0986 - val_categorical_accuracy: 0.9630 - val_loss: 0.1711\n",
      "Epoch 44/1000\n",
      "\u001b[1m96/96\u001b[0m \u001b[32m━━━━━━━━━━━━━━━━━━━━\u001b[0m\u001b[37m\u001b[0m \u001b[1m2s\u001b[0m 22ms/step - categorical_accuracy: 0.9806 - loss: 0.0773 - val_categorical_accuracy: 0.9630 - val_loss: 0.1905\n",
      "Epoch 45/1000\n",
      "\u001b[1m96/96\u001b[0m \u001b[32m━━━━━━━━━━━━━━━━━━━━\u001b[0m\u001b[37m\u001b[0m \u001b[1m2s\u001b[0m 21ms/step - categorical_accuracy: 0.9825 - loss: 0.0605 - val_categorical_accuracy: 0.9383 - val_loss: 0.3054\n",
      "Epoch 46/1000\n",
      "\u001b[1m96/96\u001b[0m \u001b[32m━━━━━━━━━━━━━━━━━━━━\u001b[0m\u001b[37m\u001b[0m \u001b[1m2s\u001b[0m 22ms/step - categorical_accuracy: 0.9768 - loss: 0.0909 - val_categorical_accuracy: 0.9753 - val_loss: 0.1516\n",
      "Epoch 47/1000\n",
      "\u001b[1m96/96\u001b[0m \u001b[32m━━━━━━━━━━━━━━━━━━━━\u001b[0m\u001b[37m\u001b[0m \u001b[1m2s\u001b[0m 22ms/step - categorical_accuracy: 0.9753 - loss: 0.0800 - val_categorical_accuracy: 0.9259 - val_loss: 0.3447\n",
      "Epoch 48/1000\n",
      "\u001b[1m96/96\u001b[0m \u001b[32m━━━━━━━━━━━━━━━━━━━━\u001b[0m\u001b[37m\u001b[0m \u001b[1m2s\u001b[0m 21ms/step - categorical_accuracy: 0.9715 - loss: 0.1007 - val_categorical_accuracy: 0.9815 - val_loss: 0.1424\n",
      "Epoch 49/1000\n",
      "\u001b[1m96/96\u001b[0m \u001b[32m━━━━━━━━━━━━━━━━━━━━\u001b[0m\u001b[37m\u001b[0m \u001b[1m2s\u001b[0m 20ms/step - categorical_accuracy: 0.9831 - loss: 0.0638 - val_categorical_accuracy: 0.9691 - val_loss: 0.1844\n",
      "Epoch 50/1000\n",
      "\u001b[1m96/96\u001b[0m \u001b[32m━━━━━━━━━━━━━━━━━━━━\u001b[0m\u001b[37m\u001b[0m \u001b[1m2s\u001b[0m 23ms/step - categorical_accuracy: 0.9811 - loss: 0.0761 - val_categorical_accuracy: 0.9444 - val_loss: 0.3092\n",
      "Epoch 51/1000\n",
      "\u001b[1m96/96\u001b[0m \u001b[32m━━━━━━━━━━━━━━━━━━━━\u001b[0m\u001b[37m\u001b[0m \u001b[1m2s\u001b[0m 21ms/step - categorical_accuracy: 0.9690 - loss: 0.1273 - val_categorical_accuracy: 0.9815 - val_loss: 0.1434\n",
      "Epoch 52/1000\n",
      "\u001b[1m96/96\u001b[0m \u001b[32m━━━━━━━━━━━━━━━━━━━━\u001b[0m\u001b[37m\u001b[0m \u001b[1m2s\u001b[0m 20ms/step - categorical_accuracy: 0.9774 - loss: 0.0831 - val_categorical_accuracy: 0.9506 - val_loss: 0.2219\n",
      "Epoch 53/1000\n",
      "\u001b[1m96/96\u001b[0m \u001b[32m━━━━━━━━━━━━━━━━━━━━\u001b[0m\u001b[37m\u001b[0m \u001b[1m2s\u001b[0m 20ms/step - categorical_accuracy: 0.9812 - loss: 0.0643 - val_categorical_accuracy: 0.9383 - val_loss: 0.4660\n",
      "Epoch 54/1000\n",
      "\u001b[1m96/96\u001b[0m \u001b[32m━━━━━━━━━━━━━━━━━━━━\u001b[0m\u001b[37m\u001b[0m \u001b[1m2s\u001b[0m 19ms/step - categorical_accuracy: 0.9775 - loss: 0.0976 - val_categorical_accuracy: 0.9506 - val_loss: 0.2517\n",
      "Epoch 55/1000\n",
      "\u001b[1m96/96\u001b[0m \u001b[32m━━━━━━━━━━━━━━━━━━━━\u001b[0m\u001b[37m\u001b[0m \u001b[1m2s\u001b[0m 22ms/step - categorical_accuracy: 0.9627 - loss: 0.1186 - val_categorical_accuracy: 0.9630 - val_loss: 0.1216\n",
      "Epoch 56/1000\n",
      "\u001b[1m96/96\u001b[0m \u001b[32m━━━━━━━━━━━━━━━━━━━━\u001b[0m\u001b[37m\u001b[0m \u001b[1m2s\u001b[0m 21ms/step - categorical_accuracy: 0.9817 - loss: 0.0689 - val_categorical_accuracy: 0.9136 - val_loss: 0.2962\n",
      "Epoch 57/1000\n",
      "\u001b[1m96/96\u001b[0m \u001b[32m━━━━━━━━━━━━━━━━━━━━\u001b[0m\u001b[37m\u001b[0m \u001b[1m2s\u001b[0m 20ms/step - categorical_accuracy: 0.9823 - loss: 0.0629 - val_categorical_accuracy: 0.9753 - val_loss: 0.1295\n",
      "Epoch 58/1000\n",
      "\u001b[1m96/96\u001b[0m \u001b[32m━━━━━━━━━━━━━━━━━━━━\u001b[0m\u001b[37m\u001b[0m \u001b[1m2s\u001b[0m 22ms/step - categorical_accuracy: 0.9838 - loss: 0.0633 - val_categorical_accuracy: 0.9815 - val_loss: 0.0942\n",
      "Epoch 59/1000\n",
      "\u001b[1m96/96\u001b[0m \u001b[32m━━━━━━━━━━━━━━━━━━━━\u001b[0m\u001b[37m\u001b[0m \u001b[1m2s\u001b[0m 20ms/step - categorical_accuracy: 0.9862 - loss: 0.0429 - val_categorical_accuracy: 0.9815 - val_loss: 0.1421\n",
      "Epoch 60/1000\n",
      "\u001b[1m96/96\u001b[0m \u001b[32m━━━━━━━━━━━━━━━━━━━━\u001b[0m\u001b[37m\u001b[0m \u001b[1m2s\u001b[0m 22ms/step - categorical_accuracy: 0.9878 - loss: 0.0448 - val_categorical_accuracy: 0.9259 - val_loss: 0.3571\n",
      "Epoch 61/1000\n",
      "\u001b[1m96/96\u001b[0m \u001b[32m━━━━━━━━━━━━━━━━━━━━\u001b[0m\u001b[37m\u001b[0m \u001b[1m2s\u001b[0m 21ms/step - categorical_accuracy: 0.9688 - loss: 0.1168 - val_categorical_accuracy: 0.9568 - val_loss: 0.2475\n",
      "Epoch 62/1000\n",
      "\u001b[1m96/96\u001b[0m \u001b[32m━━━━━━━━━━━━━━━━━━━━\u001b[0m\u001b[37m\u001b[0m \u001b[1m2s\u001b[0m 20ms/step - categorical_accuracy: 0.9824 - loss: 0.0611 - val_categorical_accuracy: 0.9630 - val_loss: 0.2772\n",
      "Epoch 63/1000\n",
      "\u001b[1m96/96\u001b[0m \u001b[32m━━━━━━━━━━━━━━━━━━━━\u001b[0m\u001b[37m\u001b[0m \u001b[1m2s\u001b[0m 24ms/step - categorical_accuracy: 0.9802 - loss: 0.0645 - val_categorical_accuracy: 0.9630 - val_loss: 0.1354\n",
      "Epoch 64/1000\n",
      "\u001b[1m96/96\u001b[0m \u001b[32m━━━━━━━━━━━━━━━━━━━━\u001b[0m\u001b[37m\u001b[0m \u001b[1m2s\u001b[0m 21ms/step - categorical_accuracy: 0.9828 - loss: 0.0689 - val_categorical_accuracy: 0.9691 - val_loss: 0.2006\n",
      "Epoch 65/1000\n",
      "\u001b[1m96/96\u001b[0m \u001b[32m━━━━━━━━━━━━━━━━━━━━\u001b[0m\u001b[37m\u001b[0m \u001b[1m2s\u001b[0m 21ms/step - categorical_accuracy: 0.9763 - loss: 0.0798 - val_categorical_accuracy: 0.9691 - val_loss: 0.1261\n",
      "Epoch 66/1000\n",
      "\u001b[1m96/96\u001b[0m \u001b[32m━━━━━━━━━━━━━━━━━━━━\u001b[0m\u001b[37m\u001b[0m \u001b[1m2s\u001b[0m 21ms/step - categorical_accuracy: 0.9840 - loss: 0.0569 - val_categorical_accuracy: 0.9815 - val_loss: 0.1646\n",
      "Epoch 67/1000\n",
      "\u001b[1m96/96\u001b[0m \u001b[32m━━━━━━━━━━━━━━━━━━━━\u001b[0m\u001b[37m\u001b[0m \u001b[1m2s\u001b[0m 21ms/step - categorical_accuracy: 0.9919 - loss: 0.0313 - val_categorical_accuracy: 0.9877 - val_loss: 0.1109\n",
      "Epoch 68/1000\n",
      "\u001b[1m96/96\u001b[0m \u001b[32m━━━━━━━━━━━━━━━━━━━━\u001b[0m\u001b[37m\u001b[0m \u001b[1m2s\u001b[0m 23ms/step - categorical_accuracy: 0.9840 - loss: 0.0551 - val_categorical_accuracy: 0.8704 - val_loss: 0.4602\n",
      "Epoch 69/1000\n",
      "\u001b[1m96/96\u001b[0m \u001b[32m━━━━━━━━━━━━━━━━━━━━\u001b[0m\u001b[37m\u001b[0m \u001b[1m2s\u001b[0m 20ms/step - categorical_accuracy: 0.9682 - loss: 0.1021 - val_categorical_accuracy: 0.9815 - val_loss: 0.1195\n",
      "Epoch 70/1000\n",
      "\u001b[1m96/96\u001b[0m \u001b[32m━━━━━━━━━━━━━━━━━━━━\u001b[0m\u001b[37m\u001b[0m \u001b[1m2s\u001b[0m 24ms/step - categorical_accuracy: 0.9880 - loss: 0.0432 - val_categorical_accuracy: 0.9815 - val_loss: 0.1199\n",
      "Epoch 71/1000\n",
      "\u001b[1m96/96\u001b[0m \u001b[32m━━━━━━━━━━━━━━━━━━━━\u001b[0m\u001b[37m\u001b[0m \u001b[1m2s\u001b[0m 23ms/step - categorical_accuracy: 0.9875 - loss: 0.0472 - val_categorical_accuracy: 0.9815 - val_loss: 0.1437\n",
      "Epoch 72/1000\n",
      "\u001b[1m96/96\u001b[0m \u001b[32m━━━━━━━━━━━━━━━━━━━━\u001b[0m\u001b[37m\u001b[0m \u001b[1m2s\u001b[0m 19ms/step - categorical_accuracy: 0.9750 - loss: 0.0897 - val_categorical_accuracy: 0.9506 - val_loss: 0.2679\n",
      "Epoch 73/1000\n",
      "\u001b[1m96/96\u001b[0m \u001b[32m━━━━━━━━━━━━━━━━━━━━\u001b[0m\u001b[37m\u001b[0m \u001b[1m2s\u001b[0m 22ms/step - categorical_accuracy: 0.9883 - loss: 0.0484 - val_categorical_accuracy: 0.9815 - val_loss: 0.1391\n",
      "Epoch 74/1000\n",
      "\u001b[1m96/96\u001b[0m \u001b[32m━━━━━━━━━━━━━━━━━━━━\u001b[0m\u001b[37m\u001b[0m \u001b[1m2s\u001b[0m 20ms/step - categorical_accuracy: 0.9885 - loss: 0.0453 - val_categorical_accuracy: 0.9568 - val_loss: 0.2771\n",
      "Epoch 75/1000\n",
      "\u001b[1m96/96\u001b[0m \u001b[32m━━━━━━━━━━━━━━━━━━━━\u001b[0m\u001b[37m\u001b[0m \u001b[1m2s\u001b[0m 24ms/step - categorical_accuracy: 0.9859 - loss: 0.0654 - val_categorical_accuracy: 0.9691 - val_loss: 0.2007\n",
      "Epoch 76/1000\n",
      "\u001b[1m96/96\u001b[0m \u001b[32m━━━━━━━━━━━━━━━━━━━━\u001b[0m\u001b[37m\u001b[0m \u001b[1m2s\u001b[0m 21ms/step - categorical_accuracy: 0.9799 - loss: 0.0679 - val_categorical_accuracy: 0.9630 - val_loss: 0.2173\n",
      "Epoch 77/1000\n",
      "\u001b[1m96/96\u001b[0m \u001b[32m━━━━━━━━━━━━━━━━━━━━\u001b[0m\u001b[37m\u001b[0m \u001b[1m2s\u001b[0m 20ms/step - categorical_accuracy: 0.9861 - loss: 0.0577 - val_categorical_accuracy: 0.9691 - val_loss: 0.1717\n",
      "Epoch 78/1000\n",
      "\u001b[1m96/96\u001b[0m \u001b[32m━━━━━━━━━━━━━━━━━━━━\u001b[0m\u001b[37m\u001b[0m \u001b[1m2s\u001b[0m 23ms/step - categorical_accuracy: 0.9853 - loss: 0.0494 - val_categorical_accuracy: 0.9074 - val_loss: 0.4938\n",
      "Epoch 79/1000\n",
      "\u001b[1m96/96\u001b[0m \u001b[32m━━━━━━━━━━━━━━━━━━━━\u001b[0m\u001b[37m\u001b[0m \u001b[1m2s\u001b[0m 23ms/step - categorical_accuracy: 0.9738 - loss: 0.1071 - val_categorical_accuracy: 0.9630 - val_loss: 0.1766\n",
      "Epoch 80/1000\n",
      "\u001b[1m96/96\u001b[0m \u001b[32m━━━━━━━━━━━━━━━━━━━━\u001b[0m\u001b[37m\u001b[0m \u001b[1m2s\u001b[0m 21ms/step - categorical_accuracy: 0.9801 - loss: 0.0782 - val_categorical_accuracy: 0.9259 - val_loss: 0.3773\n",
      "Epoch 81/1000\n",
      "\u001b[1m96/96\u001b[0m \u001b[32m━━━━━━━━━━━━━━━━━━━━\u001b[0m\u001b[37m\u001b[0m \u001b[1m2s\u001b[0m 20ms/step - categorical_accuracy: 0.9809 - loss: 0.0711 - val_categorical_accuracy: 0.9630 - val_loss: 0.1537\n",
      "Epoch 82/1000\n",
      "\u001b[1m96/96\u001b[0m \u001b[32m━━━━━━━━━━━━━━━━━━━━\u001b[0m\u001b[37m\u001b[0m \u001b[1m2s\u001b[0m 23ms/step - categorical_accuracy: 0.9906 - loss: 0.0313 - val_categorical_accuracy: 0.9877 - val_loss: 0.1097\n",
      "Epoch 83/1000\n",
      "\u001b[1m96/96\u001b[0m \u001b[32m━━━━━━━━━━━━━━━━━━━━\u001b[0m\u001b[37m\u001b[0m \u001b[1m2s\u001b[0m 23ms/step - categorical_accuracy: 0.9776 - loss: 0.0756 - val_categorical_accuracy: 0.9691 - val_loss: 0.1473\n",
      "Epoch 84/1000\n",
      "\u001b[1m96/96\u001b[0m \u001b[32m━━━━━━━━━━━━━━━━━━━━\u001b[0m\u001b[37m\u001b[0m \u001b[1m2s\u001b[0m 21ms/step - categorical_accuracy: 0.9914 - loss: 0.0330 - val_categorical_accuracy: 0.9691 - val_loss: 0.2359\n",
      "Epoch 85/1000\n",
      "\u001b[1m96/96\u001b[0m \u001b[32m━━━━━━━━━━━━━━━━━━━━\u001b[0m\u001b[37m\u001b[0m \u001b[1m3s\u001b[0m 26ms/step - categorical_accuracy: 0.9863 - loss: 0.0522 - val_categorical_accuracy: 0.8951 - val_loss: 0.6472\n",
      "Epoch 86/1000\n",
      "\u001b[1m96/96\u001b[0m \u001b[32m━━━━━━━━━━━━━━━━━━━━\u001b[0m\u001b[37m\u001b[0m \u001b[1m2s\u001b[0m 23ms/step - categorical_accuracy: 0.9757 - loss: 0.0802 - val_categorical_accuracy: 0.9383 - val_loss: 0.3264\n",
      "Epoch 87/1000\n",
      "\u001b[1m96/96\u001b[0m \u001b[32m━━━━━━━━━━━━━━━━━━━━\u001b[0m\u001b[37m\u001b[0m \u001b[1m2s\u001b[0m 23ms/step - categorical_accuracy: 0.9854 - loss: 0.0466 - val_categorical_accuracy: 0.9753 - val_loss: 0.0790\n",
      "Epoch 88/1000\n",
      "\u001b[1m96/96\u001b[0m \u001b[32m━━━━━━━━━━━━━━━━━━━━\u001b[0m\u001b[37m\u001b[0m \u001b[1m2s\u001b[0m 20ms/step - categorical_accuracy: 0.9843 - loss: 0.0556 - val_categorical_accuracy: 0.9815 - val_loss: 0.1883\n",
      "Epoch 89/1000\n",
      "\u001b[1m96/96\u001b[0m \u001b[32m━━━━━━━━━━━━━━━━━━━━\u001b[0m\u001b[37m\u001b[0m \u001b[1m2s\u001b[0m 21ms/step - categorical_accuracy: 0.9904 - loss: 0.0301 - val_categorical_accuracy: 0.9753 - val_loss: 0.0842\n",
      "Epoch 90/1000\n",
      "\u001b[1m96/96\u001b[0m \u001b[32m━━━━━━━━━━━━━━━━━━━━\u001b[0m\u001b[37m\u001b[0m \u001b[1m2s\u001b[0m 21ms/step - categorical_accuracy: 0.9898 - loss: 0.0353 - val_categorical_accuracy: 0.7778 - val_loss: 1.1085\n",
      "Epoch 91/1000\n",
      "\u001b[1m96/96\u001b[0m \u001b[32m━━━━━━━━━━━━━━━━━━━━\u001b[0m\u001b[37m\u001b[0m \u001b[1m2s\u001b[0m 21ms/step - categorical_accuracy: 0.9683 - loss: 0.1235 - val_categorical_accuracy: 0.9815 - val_loss: 0.1292\n",
      "Epoch 92/1000\n",
      "\u001b[1m96/96\u001b[0m \u001b[32m━━━━━━━━━━━━━━━━━━━━\u001b[0m\u001b[37m\u001b[0m \u001b[1m2s\u001b[0m 21ms/step - categorical_accuracy: 0.9853 - loss: 0.0439 - val_categorical_accuracy: 0.9691 - val_loss: 0.2062\n",
      "Epoch 93/1000\n",
      "\u001b[1m96/96\u001b[0m \u001b[32m━━━━━━━━━━━━━━━━━━━━\u001b[0m\u001b[37m\u001b[0m \u001b[1m2s\u001b[0m 20ms/step - categorical_accuracy: 0.9841 - loss: 0.0562 - val_categorical_accuracy: 0.9691 - val_loss: 0.1692\n",
      "Epoch 94/1000\n",
      "\u001b[1m96/96\u001b[0m \u001b[32m━━━━━━━━━━━━━━━━━━━━\u001b[0m\u001b[37m\u001b[0m \u001b[1m2s\u001b[0m 23ms/step - categorical_accuracy: 0.9872 - loss: 0.0349 - val_categorical_accuracy: 0.9815 - val_loss: 0.1804\n",
      "Epoch 95/1000\n",
      "\u001b[1m96/96\u001b[0m \u001b[32m━━━━━━━━━━━━━━━━━━━━\u001b[0m\u001b[37m\u001b[0m \u001b[1m2s\u001b[0m 21ms/step - categorical_accuracy: 0.9894 - loss: 0.0321 - val_categorical_accuracy: 0.9815 - val_loss: 0.1184\n",
      "Epoch 96/1000\n",
      "\u001b[1m96/96\u001b[0m \u001b[32m━━━━━━━━━━━━━━━━━━━━\u001b[0m\u001b[37m\u001b[0m \u001b[1m2s\u001b[0m 20ms/step - categorical_accuracy: 0.9917 - loss: 0.0288 - val_categorical_accuracy: 0.9815 - val_loss: 0.1580\n",
      "Epoch 97/1000\n",
      "\u001b[1m96/96\u001b[0m \u001b[32m━━━━━━━━━━━━━━━━━━━━\u001b[0m\u001b[37m\u001b[0m \u001b[1m2s\u001b[0m 19ms/step - categorical_accuracy: 0.9887 - loss: 0.0308 - val_categorical_accuracy: 0.9691 - val_loss: 0.1832\n",
      "Epoch 98/1000\n",
      "\u001b[1m96/96\u001b[0m \u001b[32m━━━━━━━━━━━━━━━━━━━━\u001b[0m\u001b[37m\u001b[0m \u001b[1m2s\u001b[0m 21ms/step - categorical_accuracy: 0.9730 - loss: 0.0930 - val_categorical_accuracy: 0.9691 - val_loss: 0.2264\n",
      "Epoch 99/1000\n",
      "\u001b[1m96/96\u001b[0m \u001b[32m━━━━━━━━━━━━━━━━━━━━\u001b[0m\u001b[37m\u001b[0m \u001b[1m2s\u001b[0m 21ms/step - categorical_accuracy: 0.9915 - loss: 0.0314 - val_categorical_accuracy: 0.9815 - val_loss: 0.0768\n",
      "Epoch 100/1000\n",
      "\u001b[1m96/96\u001b[0m \u001b[32m━━━━━━━━━━━━━━━━━━━━\u001b[0m\u001b[37m\u001b[0m \u001b[1m2s\u001b[0m 22ms/step - categorical_accuracy: 0.9916 - loss: 0.0191 - val_categorical_accuracy: 0.9753 - val_loss: 0.1453\n",
      "Epoch 101/1000\n",
      "\u001b[1m96/96\u001b[0m \u001b[32m━━━━━━━━━━━━━━━━━━━━\u001b[0m\u001b[37m\u001b[0m \u001b[1m2s\u001b[0m 24ms/step - categorical_accuracy: 0.9796 - loss: 0.0645 - val_categorical_accuracy: 0.9815 - val_loss: 0.2516\n",
      "Epoch 102/1000\n",
      "\u001b[1m96/96\u001b[0m \u001b[32m━━━━━━━━━━━━━━━━━━━━\u001b[0m\u001b[37m\u001b[0m \u001b[1m2s\u001b[0m 22ms/step - categorical_accuracy: 0.9875 - loss: 0.0390 - val_categorical_accuracy: 0.9753 - val_loss: 0.1724\n",
      "Epoch 103/1000\n",
      "\u001b[1m96/96\u001b[0m \u001b[32m━━━━━━━━━━━━━━━━━━━━\u001b[0m\u001b[37m\u001b[0m \u001b[1m2s\u001b[0m 23ms/step - categorical_accuracy: 0.9915 - loss: 0.0328 - val_categorical_accuracy: 0.9753 - val_loss: 0.1774\n",
      "Epoch 104/1000\n",
      "\u001b[1m96/96\u001b[0m \u001b[32m━━━━━━━━━━━━━━━━━━━━\u001b[0m\u001b[37m\u001b[0m \u001b[1m2s\u001b[0m 21ms/step - categorical_accuracy: 0.9803 - loss: 0.0655 - val_categorical_accuracy: 0.9691 - val_loss: 0.1777\n",
      "Epoch 105/1000\n",
      "\u001b[1m96/96\u001b[0m \u001b[32m━━━━━━━━━━━━━━━━━━━━\u001b[0m\u001b[37m\u001b[0m \u001b[1m2s\u001b[0m 20ms/step - categorical_accuracy: 0.9812 - loss: 0.0735 - val_categorical_accuracy: 0.9691 - val_loss: 0.2123\n",
      "Epoch 106/1000\n",
      "\u001b[1m96/96\u001b[0m \u001b[32m━━━━━━━━━━━━━━━━━━━━\u001b[0m\u001b[37m\u001b[0m \u001b[1m2s\u001b[0m 21ms/step - categorical_accuracy: 0.9781 - loss: 0.0686 - val_categorical_accuracy: 0.9815 - val_loss: 0.1462\n",
      "Epoch 107/1000\n",
      "\u001b[1m96/96\u001b[0m \u001b[32m━━━━━━━━━━━━━━━━━━━━\u001b[0m\u001b[37m\u001b[0m \u001b[1m2s\u001b[0m 21ms/step - categorical_accuracy: 0.9917 - loss: 0.0264 - val_categorical_accuracy: 0.9753 - val_loss: 0.1431\n",
      "Epoch 108/1000\n",
      "\u001b[1m96/96\u001b[0m \u001b[32m━━━━━━━━━━━━━━━━━━━━\u001b[0m\u001b[37m\u001b[0m \u001b[1m2s\u001b[0m 22ms/step - categorical_accuracy: 0.9935 - loss: 0.0233 - val_categorical_accuracy: 0.9815 - val_loss: 0.1259\n",
      "Epoch 109/1000\n",
      "\u001b[1m96/96\u001b[0m \u001b[32m━━━━━━━━━━━━━━━━━━━━\u001b[0m\u001b[37m\u001b[0m \u001b[1m2s\u001b[0m 24ms/step - categorical_accuracy: 0.9909 - loss: 0.0350 - val_categorical_accuracy: 0.9877 - val_loss: 0.1339\n",
      "Epoch 110/1000\n",
      "\u001b[1m96/96\u001b[0m \u001b[32m━━━━━━━━━━━━━━━━━━━━\u001b[0m\u001b[37m\u001b[0m \u001b[1m2s\u001b[0m 21ms/step - categorical_accuracy: 0.9849 - loss: 0.0493 - val_categorical_accuracy: 0.9506 - val_loss: 0.2839\n",
      "Epoch 111/1000\n",
      "\u001b[1m96/96\u001b[0m \u001b[32m━━━━━━━━━━━━━━━━━━━━\u001b[0m\u001b[37m\u001b[0m \u001b[1m2s\u001b[0m 19ms/step - categorical_accuracy: 0.9891 - loss: 0.0447 - val_categorical_accuracy: 0.9753 - val_loss: 0.1746\n",
      "Epoch 112/1000\n",
      "\u001b[1m96/96\u001b[0m \u001b[32m━━━━━━━━━━━━━━━━━━━━\u001b[0m\u001b[37m\u001b[0m \u001b[1m2s\u001b[0m 20ms/step - categorical_accuracy: 0.9913 - loss: 0.0300 - val_categorical_accuracy: 0.9691 - val_loss: 0.1419\n",
      "Epoch 113/1000\n",
      "\u001b[1m18/96\u001b[0m \u001b[32m━━━\u001b[0m\u001b[37m━━━━━━━━━━━━━━━━━\u001b[0m \u001b[1m1s\u001b[0m 24ms/step - categorical_accuracy: 0.9894 - loss: 0.0320"
     ]
    },
    {
     "ename": "KeyboardInterrupt",
     "evalue": "",
     "output_type": "error",
     "traceback": [
      "\u001b[1;31m---------------------------------------------------------------------------\u001b[0m",
      "\u001b[1;31mKeyboardInterrupt\u001b[0m                         Traceback (most recent call last)",
      "Cell \u001b[1;32mIn[89], line 1\u001b[0m\n\u001b[1;32m----> 1\u001b[0m model\u001b[38;5;241m.\u001b[39mfit(X_train, y_train, epochs\u001b[38;5;241m=\u001b[39m\u001b[38;5;241m1000\u001b[39m, validation_data\u001b[38;5;241m=\u001b[39m(X_test, y_test))\n",
      "File \u001b[1;32m~\\ANACONDA\\anaconda3\\Lib\\site-packages\\keras\\src\\utils\\traceback_utils.py:117\u001b[0m, in \u001b[0;36mfilter_traceback.<locals>.error_handler\u001b[1;34m(*args, **kwargs)\u001b[0m\n\u001b[0;32m    115\u001b[0m filtered_tb \u001b[38;5;241m=\u001b[39m \u001b[38;5;28;01mNone\u001b[39;00m\n\u001b[0;32m    116\u001b[0m \u001b[38;5;28;01mtry\u001b[39;00m:\n\u001b[1;32m--> 117\u001b[0m     \u001b[38;5;28;01mreturn\u001b[39;00m fn(\u001b[38;5;241m*\u001b[39margs, \u001b[38;5;241m*\u001b[39m\u001b[38;5;241m*\u001b[39mkwargs)\n\u001b[0;32m    118\u001b[0m \u001b[38;5;28;01mexcept\u001b[39;00m \u001b[38;5;167;01mException\u001b[39;00m \u001b[38;5;28;01mas\u001b[39;00m e:\n\u001b[0;32m    119\u001b[0m     filtered_tb \u001b[38;5;241m=\u001b[39m _process_traceback_frames(e\u001b[38;5;241m.\u001b[39m__traceback__)\n",
      "File \u001b[1;32m~\\ANACONDA\\anaconda3\\Lib\\site-packages\\keras\\src\\backend\\tensorflow\\trainer.py:368\u001b[0m, in \u001b[0;36mTensorFlowTrainer.fit\u001b[1;34m(self, x, y, batch_size, epochs, verbose, callbacks, validation_split, validation_data, shuffle, class_weight, sample_weight, initial_epoch, steps_per_epoch, validation_steps, validation_batch_size, validation_freq)\u001b[0m\n\u001b[0;32m    366\u001b[0m \u001b[38;5;28;01mfor\u001b[39;00m step, iterator \u001b[38;5;129;01min\u001b[39;00m epoch_iterator:\n\u001b[0;32m    367\u001b[0m     callbacks\u001b[38;5;241m.\u001b[39mon_train_batch_begin(step)\n\u001b[1;32m--> 368\u001b[0m     logs \u001b[38;5;241m=\u001b[39m \u001b[38;5;28mself\u001b[39m\u001b[38;5;241m.\u001b[39mtrain_function(iterator)\n\u001b[0;32m    369\u001b[0m     callbacks\u001b[38;5;241m.\u001b[39mon_train_batch_end(step, logs)\n\u001b[0;32m    370\u001b[0m     \u001b[38;5;28;01mif\u001b[39;00m \u001b[38;5;28mself\u001b[39m\u001b[38;5;241m.\u001b[39mstop_training:\n",
      "File \u001b[1;32m~\\ANACONDA\\anaconda3\\Lib\\site-packages\\keras\\src\\backend\\tensorflow\\trainer.py:216\u001b[0m, in \u001b[0;36mTensorFlowTrainer._make_function.<locals>.function\u001b[1;34m(iterator)\u001b[0m\n\u001b[0;32m    212\u001b[0m \u001b[38;5;28;01mdef\u001b[39;00m \u001b[38;5;21mfunction\u001b[39m(iterator):\n\u001b[0;32m    213\u001b[0m     \u001b[38;5;28;01mif\u001b[39;00m \u001b[38;5;28misinstance\u001b[39m(\n\u001b[0;32m    214\u001b[0m         iterator, (tf\u001b[38;5;241m.\u001b[39mdata\u001b[38;5;241m.\u001b[39mIterator, tf\u001b[38;5;241m.\u001b[39mdistribute\u001b[38;5;241m.\u001b[39mDistributedIterator)\n\u001b[0;32m    215\u001b[0m     ):\n\u001b[1;32m--> 216\u001b[0m         opt_outputs \u001b[38;5;241m=\u001b[39m multi_step_on_iterator(iterator)\n\u001b[0;32m    217\u001b[0m         \u001b[38;5;28;01mif\u001b[39;00m \u001b[38;5;129;01mnot\u001b[39;00m opt_outputs\u001b[38;5;241m.\u001b[39mhas_value():\n\u001b[0;32m    218\u001b[0m             \u001b[38;5;28;01mraise\u001b[39;00m \u001b[38;5;167;01mStopIteration\u001b[39;00m\n",
      "File \u001b[1;32m~\\ANACONDA\\anaconda3\\Lib\\site-packages\\tensorflow\\python\\util\\traceback_utils.py:150\u001b[0m, in \u001b[0;36mfilter_traceback.<locals>.error_handler\u001b[1;34m(*args, **kwargs)\u001b[0m\n\u001b[0;32m    148\u001b[0m filtered_tb \u001b[38;5;241m=\u001b[39m \u001b[38;5;28;01mNone\u001b[39;00m\n\u001b[0;32m    149\u001b[0m \u001b[38;5;28;01mtry\u001b[39;00m:\n\u001b[1;32m--> 150\u001b[0m   \u001b[38;5;28;01mreturn\u001b[39;00m fn(\u001b[38;5;241m*\u001b[39margs, \u001b[38;5;241m*\u001b[39m\u001b[38;5;241m*\u001b[39mkwargs)\n\u001b[0;32m    151\u001b[0m \u001b[38;5;28;01mexcept\u001b[39;00m \u001b[38;5;167;01mException\u001b[39;00m \u001b[38;5;28;01mas\u001b[39;00m e:\n\u001b[0;32m    152\u001b[0m   filtered_tb \u001b[38;5;241m=\u001b[39m _process_traceback_frames(e\u001b[38;5;241m.\u001b[39m__traceback__)\n",
      "File \u001b[1;32m~\\ANACONDA\\anaconda3\\Lib\\site-packages\\tensorflow\\python\\eager\\polymorphic_function\\polymorphic_function.py:833\u001b[0m, in \u001b[0;36mFunction.__call__\u001b[1;34m(self, *args, **kwds)\u001b[0m\n\u001b[0;32m    830\u001b[0m compiler \u001b[38;5;241m=\u001b[39m \u001b[38;5;124m\"\u001b[39m\u001b[38;5;124mxla\u001b[39m\u001b[38;5;124m\"\u001b[39m \u001b[38;5;28;01mif\u001b[39;00m \u001b[38;5;28mself\u001b[39m\u001b[38;5;241m.\u001b[39m_jit_compile \u001b[38;5;28;01melse\u001b[39;00m \u001b[38;5;124m\"\u001b[39m\u001b[38;5;124mnonXla\u001b[39m\u001b[38;5;124m\"\u001b[39m\n\u001b[0;32m    832\u001b[0m \u001b[38;5;28;01mwith\u001b[39;00m OptionalXlaContext(\u001b[38;5;28mself\u001b[39m\u001b[38;5;241m.\u001b[39m_jit_compile):\n\u001b[1;32m--> 833\u001b[0m   result \u001b[38;5;241m=\u001b[39m \u001b[38;5;28mself\u001b[39m\u001b[38;5;241m.\u001b[39m_call(\u001b[38;5;241m*\u001b[39margs, \u001b[38;5;241m*\u001b[39m\u001b[38;5;241m*\u001b[39mkwds)\n\u001b[0;32m    835\u001b[0m new_tracing_count \u001b[38;5;241m=\u001b[39m \u001b[38;5;28mself\u001b[39m\u001b[38;5;241m.\u001b[39mexperimental_get_tracing_count()\n\u001b[0;32m    836\u001b[0m without_tracing \u001b[38;5;241m=\u001b[39m (tracing_count \u001b[38;5;241m==\u001b[39m new_tracing_count)\n",
      "File \u001b[1;32m~\\ANACONDA\\anaconda3\\Lib\\site-packages\\tensorflow\\python\\eager\\polymorphic_function\\polymorphic_function.py:878\u001b[0m, in \u001b[0;36mFunction._call\u001b[1;34m(self, *args, **kwds)\u001b[0m\n\u001b[0;32m    875\u001b[0m \u001b[38;5;28mself\u001b[39m\u001b[38;5;241m.\u001b[39m_lock\u001b[38;5;241m.\u001b[39mrelease()\n\u001b[0;32m    876\u001b[0m \u001b[38;5;66;03m# In this case we have not created variables on the first call. So we can\u001b[39;00m\n\u001b[0;32m    877\u001b[0m \u001b[38;5;66;03m# run the first trace but we should fail if variables are created.\u001b[39;00m\n\u001b[1;32m--> 878\u001b[0m results \u001b[38;5;241m=\u001b[39m tracing_compilation\u001b[38;5;241m.\u001b[39mcall_function(\n\u001b[0;32m    879\u001b[0m     args, kwds, \u001b[38;5;28mself\u001b[39m\u001b[38;5;241m.\u001b[39m_variable_creation_config\n\u001b[0;32m    880\u001b[0m )\n\u001b[0;32m    881\u001b[0m \u001b[38;5;28;01mif\u001b[39;00m \u001b[38;5;28mself\u001b[39m\u001b[38;5;241m.\u001b[39m_created_variables:\n\u001b[0;32m    882\u001b[0m   \u001b[38;5;28;01mraise\u001b[39;00m \u001b[38;5;167;01mValueError\u001b[39;00m(\u001b[38;5;124m\"\u001b[39m\u001b[38;5;124mCreating variables on a non-first call to a function\u001b[39m\u001b[38;5;124m\"\u001b[39m\n\u001b[0;32m    883\u001b[0m                    \u001b[38;5;124m\"\u001b[39m\u001b[38;5;124m decorated with tf.function.\u001b[39m\u001b[38;5;124m\"\u001b[39m)\n",
      "File \u001b[1;32m~\\ANACONDA\\anaconda3\\Lib\\site-packages\\tensorflow\\python\\eager\\polymorphic_function\\tracing_compilation.py:139\u001b[0m, in \u001b[0;36mcall_function\u001b[1;34m(args, kwargs, tracing_options)\u001b[0m\n\u001b[0;32m    137\u001b[0m bound_args \u001b[38;5;241m=\u001b[39m function\u001b[38;5;241m.\u001b[39mfunction_type\u001b[38;5;241m.\u001b[39mbind(\u001b[38;5;241m*\u001b[39margs, \u001b[38;5;241m*\u001b[39m\u001b[38;5;241m*\u001b[39mkwargs)\n\u001b[0;32m    138\u001b[0m flat_inputs \u001b[38;5;241m=\u001b[39m function\u001b[38;5;241m.\u001b[39mfunction_type\u001b[38;5;241m.\u001b[39munpack_inputs(bound_args)\n\u001b[1;32m--> 139\u001b[0m \u001b[38;5;28;01mreturn\u001b[39;00m function\u001b[38;5;241m.\u001b[39m_call_flat(  \u001b[38;5;66;03m# pylint: disable=protected-access\u001b[39;00m\n\u001b[0;32m    140\u001b[0m     flat_inputs, captured_inputs\u001b[38;5;241m=\u001b[39mfunction\u001b[38;5;241m.\u001b[39mcaptured_inputs\n\u001b[0;32m    141\u001b[0m )\n",
      "File \u001b[1;32m~\\ANACONDA\\anaconda3\\Lib\\site-packages\\tensorflow\\python\\eager\\polymorphic_function\\concrete_function.py:1322\u001b[0m, in \u001b[0;36mConcreteFunction._call_flat\u001b[1;34m(self, tensor_inputs, captured_inputs)\u001b[0m\n\u001b[0;32m   1318\u001b[0m possible_gradient_type \u001b[38;5;241m=\u001b[39m gradients_util\u001b[38;5;241m.\u001b[39mPossibleTapeGradientTypes(args)\n\u001b[0;32m   1319\u001b[0m \u001b[38;5;28;01mif\u001b[39;00m (possible_gradient_type \u001b[38;5;241m==\u001b[39m gradients_util\u001b[38;5;241m.\u001b[39mPOSSIBLE_GRADIENT_TYPES_NONE\n\u001b[0;32m   1320\u001b[0m     \u001b[38;5;129;01mand\u001b[39;00m executing_eagerly):\n\u001b[0;32m   1321\u001b[0m   \u001b[38;5;66;03m# No tape is watching; skip to running the function.\u001b[39;00m\n\u001b[1;32m-> 1322\u001b[0m   \u001b[38;5;28;01mreturn\u001b[39;00m \u001b[38;5;28mself\u001b[39m\u001b[38;5;241m.\u001b[39m_inference_function\u001b[38;5;241m.\u001b[39mcall_preflattened(args)\n\u001b[0;32m   1323\u001b[0m forward_backward \u001b[38;5;241m=\u001b[39m \u001b[38;5;28mself\u001b[39m\u001b[38;5;241m.\u001b[39m_select_forward_and_backward_functions(\n\u001b[0;32m   1324\u001b[0m     args,\n\u001b[0;32m   1325\u001b[0m     possible_gradient_type,\n\u001b[0;32m   1326\u001b[0m     executing_eagerly)\n\u001b[0;32m   1327\u001b[0m forward_function, args_with_tangents \u001b[38;5;241m=\u001b[39m forward_backward\u001b[38;5;241m.\u001b[39mforward()\n",
      "File \u001b[1;32m~\\ANACONDA\\anaconda3\\Lib\\site-packages\\tensorflow\\python\\eager\\polymorphic_function\\atomic_function.py:216\u001b[0m, in \u001b[0;36mAtomicFunction.call_preflattened\u001b[1;34m(self, args)\u001b[0m\n\u001b[0;32m    214\u001b[0m \u001b[38;5;28;01mdef\u001b[39;00m \u001b[38;5;21mcall_preflattened\u001b[39m(\u001b[38;5;28mself\u001b[39m, args: Sequence[core\u001b[38;5;241m.\u001b[39mTensor]) \u001b[38;5;241m-\u001b[39m\u001b[38;5;241m>\u001b[39m Any:\n\u001b[0;32m    215\u001b[0m \u001b[38;5;250m  \u001b[39m\u001b[38;5;124;03m\"\"\"Calls with flattened tensor inputs and returns the structured output.\"\"\"\u001b[39;00m\n\u001b[1;32m--> 216\u001b[0m   flat_outputs \u001b[38;5;241m=\u001b[39m \u001b[38;5;28mself\u001b[39m\u001b[38;5;241m.\u001b[39mcall_flat(\u001b[38;5;241m*\u001b[39margs)\n\u001b[0;32m    217\u001b[0m   \u001b[38;5;28;01mreturn\u001b[39;00m \u001b[38;5;28mself\u001b[39m\u001b[38;5;241m.\u001b[39mfunction_type\u001b[38;5;241m.\u001b[39mpack_output(flat_outputs)\n",
      "File \u001b[1;32m~\\ANACONDA\\anaconda3\\Lib\\site-packages\\tensorflow\\python\\eager\\polymorphic_function\\atomic_function.py:251\u001b[0m, in \u001b[0;36mAtomicFunction.call_flat\u001b[1;34m(self, *args)\u001b[0m\n\u001b[0;32m    249\u001b[0m \u001b[38;5;28;01mwith\u001b[39;00m record\u001b[38;5;241m.\u001b[39mstop_recording():\n\u001b[0;32m    250\u001b[0m   \u001b[38;5;28;01mif\u001b[39;00m \u001b[38;5;28mself\u001b[39m\u001b[38;5;241m.\u001b[39m_bound_context\u001b[38;5;241m.\u001b[39mexecuting_eagerly():\n\u001b[1;32m--> 251\u001b[0m     outputs \u001b[38;5;241m=\u001b[39m \u001b[38;5;28mself\u001b[39m\u001b[38;5;241m.\u001b[39m_bound_context\u001b[38;5;241m.\u001b[39mcall_function(\n\u001b[0;32m    252\u001b[0m         \u001b[38;5;28mself\u001b[39m\u001b[38;5;241m.\u001b[39mname,\n\u001b[0;32m    253\u001b[0m         \u001b[38;5;28mlist\u001b[39m(args),\n\u001b[0;32m    254\u001b[0m         \u001b[38;5;28mlen\u001b[39m(\u001b[38;5;28mself\u001b[39m\u001b[38;5;241m.\u001b[39mfunction_type\u001b[38;5;241m.\u001b[39mflat_outputs),\n\u001b[0;32m    255\u001b[0m     )\n\u001b[0;32m    256\u001b[0m   \u001b[38;5;28;01melse\u001b[39;00m:\n\u001b[0;32m    257\u001b[0m     outputs \u001b[38;5;241m=\u001b[39m make_call_op_in_graph(\n\u001b[0;32m    258\u001b[0m         \u001b[38;5;28mself\u001b[39m,\n\u001b[0;32m    259\u001b[0m         \u001b[38;5;28mlist\u001b[39m(args),\n\u001b[0;32m    260\u001b[0m         \u001b[38;5;28mself\u001b[39m\u001b[38;5;241m.\u001b[39m_bound_context\u001b[38;5;241m.\u001b[39mfunction_call_options\u001b[38;5;241m.\u001b[39mas_attrs(),\n\u001b[0;32m    261\u001b[0m     )\n",
      "File \u001b[1;32m~\\ANACONDA\\anaconda3\\Lib\\site-packages\\tensorflow\\python\\eager\\context.py:1683\u001b[0m, in \u001b[0;36mContext.call_function\u001b[1;34m(self, name, tensor_inputs, num_outputs)\u001b[0m\n\u001b[0;32m   1681\u001b[0m cancellation_context \u001b[38;5;241m=\u001b[39m cancellation\u001b[38;5;241m.\u001b[39mcontext()\n\u001b[0;32m   1682\u001b[0m \u001b[38;5;28;01mif\u001b[39;00m cancellation_context \u001b[38;5;129;01mis\u001b[39;00m \u001b[38;5;28;01mNone\u001b[39;00m:\n\u001b[1;32m-> 1683\u001b[0m   outputs \u001b[38;5;241m=\u001b[39m execute\u001b[38;5;241m.\u001b[39mexecute(\n\u001b[0;32m   1684\u001b[0m       name\u001b[38;5;241m.\u001b[39mdecode(\u001b[38;5;124m\"\u001b[39m\u001b[38;5;124mutf-8\u001b[39m\u001b[38;5;124m\"\u001b[39m),\n\u001b[0;32m   1685\u001b[0m       num_outputs\u001b[38;5;241m=\u001b[39mnum_outputs,\n\u001b[0;32m   1686\u001b[0m       inputs\u001b[38;5;241m=\u001b[39mtensor_inputs,\n\u001b[0;32m   1687\u001b[0m       attrs\u001b[38;5;241m=\u001b[39mattrs,\n\u001b[0;32m   1688\u001b[0m       ctx\u001b[38;5;241m=\u001b[39m\u001b[38;5;28mself\u001b[39m,\n\u001b[0;32m   1689\u001b[0m   )\n\u001b[0;32m   1690\u001b[0m \u001b[38;5;28;01melse\u001b[39;00m:\n\u001b[0;32m   1691\u001b[0m   outputs \u001b[38;5;241m=\u001b[39m execute\u001b[38;5;241m.\u001b[39mexecute_with_cancellation(\n\u001b[0;32m   1692\u001b[0m       name\u001b[38;5;241m.\u001b[39mdecode(\u001b[38;5;124m\"\u001b[39m\u001b[38;5;124mutf-8\u001b[39m\u001b[38;5;124m\"\u001b[39m),\n\u001b[0;32m   1693\u001b[0m       num_outputs\u001b[38;5;241m=\u001b[39mnum_outputs,\n\u001b[1;32m   (...)\u001b[0m\n\u001b[0;32m   1697\u001b[0m       cancellation_manager\u001b[38;5;241m=\u001b[39mcancellation_context,\n\u001b[0;32m   1698\u001b[0m   )\n",
      "File \u001b[1;32m~\\ANACONDA\\anaconda3\\Lib\\site-packages\\tensorflow\\python\\eager\\execute.py:53\u001b[0m, in \u001b[0;36mquick_execute\u001b[1;34m(op_name, num_outputs, inputs, attrs, ctx, name)\u001b[0m\n\u001b[0;32m     51\u001b[0m \u001b[38;5;28;01mtry\u001b[39;00m:\n\u001b[0;32m     52\u001b[0m   ctx\u001b[38;5;241m.\u001b[39mensure_initialized()\n\u001b[1;32m---> 53\u001b[0m   tensors \u001b[38;5;241m=\u001b[39m pywrap_tfe\u001b[38;5;241m.\u001b[39mTFE_Py_Execute(ctx\u001b[38;5;241m.\u001b[39m_handle, device_name, op_name,\n\u001b[0;32m     54\u001b[0m                                       inputs, attrs, num_outputs)\n\u001b[0;32m     55\u001b[0m \u001b[38;5;28;01mexcept\u001b[39;00m core\u001b[38;5;241m.\u001b[39m_NotOkStatusException \u001b[38;5;28;01mas\u001b[39;00m e:\n\u001b[0;32m     56\u001b[0m   \u001b[38;5;28;01mif\u001b[39;00m name \u001b[38;5;129;01mis\u001b[39;00m \u001b[38;5;129;01mnot\u001b[39;00m \u001b[38;5;28;01mNone\u001b[39;00m:\n",
      "\u001b[1;31mKeyboardInterrupt\u001b[0m: "
     ]
    }
   ],
   "source": [
    "model.fit(X_train, y_train, epochs=1000, validation_data=(X_test, y_test))"
   ]
  },
  {
   "cell_type": "code",
   "execution_count": 90,
   "id": "43b4eefc-2bff-4608-87d3-80d5bd6f63e0",
   "metadata": {},
   "outputs": [
    {
     "name": "stdout",
     "output_type": "stream",
     "text": [
      "\u001b[1m96/96\u001b[0m \u001b[32m━━━━━━━━━━━━━━━━━━━━\u001b[0m\u001b[37m\u001b[0m \u001b[1m1s\u001b[0m 9ms/step\n",
      "\u001b[1m96/96\u001b[0m \u001b[32m━━━━━━━━━━━━━━━━━━━━\u001b[0m\u001b[37m\u001b[0m \u001b[1m1s\u001b[0m 7ms/step - categorical_accuracy: 0.9964 - loss: 0.0099\n",
      "[0.006990093272179365, 0.9973933100700378]\n"
     ]
    }
   ],
   "source": [
    "training_res = model.predict(X_train)\n",
    "print(model.evaluate(X_train, y_train))"
   ]
  },
  {
   "cell_type": "code",
   "execution_count": 91,
   "id": "cc7d771c-5929-4906-bef3-62b6c112dcfc",
   "metadata": {},
   "outputs": [
    {
     "name": "stdout",
     "output_type": "stream",
     "text": [
      "\u001b[1m6/6\u001b[0m \u001b[32m━━━━━━━━━━━━━━━━━━━━\u001b[0m\u001b[37m\u001b[0m \u001b[1m0s\u001b[0m 12ms/step\n",
      "\u001b[1m6/6\u001b[0m \u001b[32m━━━━━━━━━━━━━━━━━━━━\u001b[0m\u001b[37m\u001b[0m \u001b[1m0s\u001b[0m 10ms/step - categorical_accuracy: 0.9845 - loss: 0.1097\n",
      "[0.18496768176555634, 0.9753086566925049]\n"
     ]
    }
   ],
   "source": [
    "#evaluate the model on the test set\n",
    "res = model.predict(X_test)\n",
    "print(model.evaluate(X_test, y_test))"
   ]
  },
  {
   "cell_type": "code",
   "execution_count": 92,
   "id": "b5374e8f-96dc-4e4d-9e73-cff342b21bdd",
   "metadata": {},
   "outputs": [
    {
     "data": {
      "text/plain": [
       "'how'"
      ]
     },
     "execution_count": 92,
     "metadata": {},
     "output_type": "execute_result"
    }
   ],
   "source": [
    "selected_glosses[np.argmax(res[36])]"
   ]
  },
  {
   "cell_type": "code",
   "execution_count": 93,
   "id": "3fb110ca-e35b-4441-8896-580a0cc8764e",
   "metadata": {},
   "outputs": [
    {
     "data": {
      "text/plain": [
       "'how'"
      ]
     },
     "execution_count": 93,
     "metadata": {},
     "output_type": "execute_result"
    }
   ],
   "source": [
    "selected_glosses[np.argmax(y_test[36])]"
   ]
  },
  {
   "cell_type": "code",
   "execution_count": null,
   "id": "bdfa504e-5fd2-490d-ae90-0020cc66349a",
   "metadata": {
    "scrolled": true
   },
   "outputs": [],
   "source": [
    "model.save('LSTM_model.h5')"
   ]
  },
  {
   "cell_type": "code",
   "execution_count": 95,
   "id": "130b9d22-73d6-4504-9223-a2435f4956ef",
   "metadata": {},
   "outputs": [],
   "source": [
    "del model"
   ]
  },
  {
   "cell_type": "code",
   "execution_count": null,
   "id": "e1138503-1d03-456b-bdde-46f085db516a",
   "metadata": {
    "scrolled": true
   },
   "outputs": [],
   "source": [
    "from tensorflow.keras.models import load_model\n",
    "model = load_model('LSTM_model.h5') "
   ]
  },
  {
   "cell_type": "markdown",
   "id": "affbedd7-11b1-4687-8c5d-68628004d431",
   "metadata": {},
   "source": [
    "## Evaluation"
   ]
  },
  {
   "cell_type": "code",
   "execution_count": 97,
   "id": "719f015b-3ad3-492c-b424-244c8cff6fc8",
   "metadata": {},
   "outputs": [],
   "source": [
    "from sklearn.metrics import multilabel_confusion_matrix, accuracy_score"
   ]
  },
  {
   "cell_type": "code",
   "execution_count": 98,
   "id": "816c1772-5cc6-49b6-917e-a4eb7eadf23e",
   "metadata": {},
   "outputs": [
    {
     "name": "stdout",
     "output_type": "stream",
     "text": [
      "\u001b[1m6/6\u001b[0m \u001b[32m━━━━━━━━━━━━━━━━━━━━\u001b[0m\u001b[37m\u001b[0m \u001b[1m1s\u001b[0m 73ms/step\n"
     ]
    }
   ],
   "source": [
    "ypred = model.predict(X_test)"
   ]
  },
  {
   "cell_type": "code",
   "execution_count": 99,
   "id": "787aa0e7-1d73-4225-8b95-d721a2d67dc0",
   "metadata": {},
   "outputs": [],
   "source": [
    "ytrue = np.argmax(y_test, axis=1).tolist()\n",
    "ypred = np.argmax(ypred, axis=1).tolist()"
   ]
  },
  {
   "cell_type": "code",
   "execution_count": 100,
   "id": "6e3185d9-386d-4aea-baea-c3c4edc64568",
   "metadata": {},
   "outputs": [
    {
     "data": {
      "text/plain": [
       "array([[[148,   1],\n",
       "        [  0,  13]],\n",
       "\n",
       "       [[148,   0],\n",
       "        [  0,  14]],\n",
       "\n",
       "       [[149,   0],\n",
       "        [  0,  13]],\n",
       "\n",
       "       [[148,   1],\n",
       "        [  1,  12]],\n",
       "\n",
       "       [[149,   0],\n",
       "        [  0,  13]],\n",
       "\n",
       "       [[148,   0],\n",
       "        [  0,  14]],\n",
       "\n",
       "       [[148,   0],\n",
       "        [  1,  13]],\n",
       "\n",
       "       [[148,   0],\n",
       "        [  0,  14]],\n",
       "\n",
       "       [[148,   0],\n",
       "        [  0,  14]],\n",
       "\n",
       "       [[148,   1],\n",
       "        [  0,  13]],\n",
       "\n",
       "       [[147,   1],\n",
       "        [  1,  13]],\n",
       "\n",
       "       [[149,   0],\n",
       "        [  1,  12]]], dtype=int64)"
      ]
     },
     "execution_count": 100,
     "metadata": {},
     "output_type": "execute_result"
    }
   ],
   "source": [
    "multilabel_confusion_matrix(ytrue, ypred)"
   ]
  },
  {
   "cell_type": "code",
   "execution_count": 105,
   "id": "5f6063b6-1af0-41c4-b81f-6e89b06ad19e",
   "metadata": {},
   "outputs": [
    {
     "data": {
      "text/plain": [
       "<Figure size 800x600 with 0 Axes>"
      ]
     },
     "metadata": {},
     "output_type": "display_data"
    },
    {
     "data": {
      "image/png": "[encoded data removed]",
      "text/plain": [
       "<Figure size 640x480 with 2 Axes>"
      ]
     },
     "metadata": {},
     "output_type": "display_data"
    }
   ],
   "source": [
    "from sklearn.metrics import confusion_matrix, ConfusionMatrixDisplay\n",
    "\n",
    "cm = confusion_matrix(ytrue, ypred)\n",
    "disp = ConfusionMatrixDisplay(confusion_matrix=cm, display_labels=selected_glosses)\n",
    "plt.figure(figsize=(8, 6))\n",
    "disp.plot(cmap='Blues', xticks_rotation=45)\n",
    "plt.title(\"Confusion Matrix\")\n",
    "plt.show()"
   ]
  },
  {
   "cell_type": "code",
   "execution_count": 102,
   "id": "06402dbe-7c25-4e5e-a14f-3a09b684f534",
   "metadata": {},
   "outputs": [
    {
     "name": "stdout",
     "output_type": "stream",
     "text": [
      "              precision    recall  f1-score   support\n",
      "\n",
      "        nice       0.93      1.00      0.96        13\n",
      "    thankyou       1.00      1.00      1.00        14\n",
      "        meet       1.00      1.00      1.00        13\n",
      "        fine       0.92      0.92      0.92        13\n",
      "         how       1.00      1.00      1.00        13\n",
      "        what       1.00      1.00      1.00        14\n",
      "        cool       1.00      0.93      0.96        14\n",
      "        name       1.00      1.00      1.00        14\n",
      "       hello       1.00      1.00      1.00        14\n",
      "         you       0.93      1.00      0.96        13\n",
      "          me       0.93      0.93      0.93        14\n",
      "        your       1.00      0.92      0.96        13\n",
      "\n",
      "    accuracy                           0.98       162\n",
      "   macro avg       0.98      0.98      0.98       162\n",
      "weighted avg       0.98      0.98      0.98       162\n",
      "\n"
     ]
    }
   ],
   "source": [
    "from sklearn.metrics import classification_report\n",
    "\n",
    "print(classification_report(ytrue, ypred, target_names=selected_glosses))"
   ]
  }
 ],
 "metadata": {
  "kernelspec": {
   "display_name": "Python 3 (ipykernel)",
   "language": "python",
   "name": "python3"
  },
  "language_info": {
   "codemirror_mode": {
    "name": "ipython",
    "version": 3
   },
   "file_extension": ".py",
   "mimetype": "text/x-python",
   "name": "python",
   "nbconvert_exporter": "python",
   "pygments_lexer": "ipython3",
   "version": "3.12.7"
  }
 },
 "nbformat": 4,
 "nbformat_minor": 5
}
